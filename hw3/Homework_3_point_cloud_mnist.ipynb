{
  "nbformat": 4,
  "nbformat_minor": 0,
  "metadata": {
    "kernelspec": {
      "display_name": "Python 3",
      "language": "python",
      "name": "python3"
    },
    "language_info": {
      "codemirror_mode": {
        "name": "ipython",
        "version": 3
      },
      "file_extension": ".py",
      "mimetype": "text/x-python",
      "name": "python",
      "nbconvert_exporter": "python",
      "pygments_lexer": "ipython3",
      "version": "3.8.2"
    },
    "colab": {
      "name": "Homework_3_point_cloud_mnist.ipynb",
      "provenance": []
    }
  },
  "cells": [
    {
      "cell_type": "code",
      "metadata": {
        "id": "i3i2WTI0hI72",
        "colab_type": "code",
        "colab": {}
      },
      "source": [
        "import torch\n",
        "import torch.nn as nn\n",
        "import torch.nn.functional as F\n",
        "from torch.utils.data import Dataset, DataLoader, Sampler\n",
        "import glob\n",
        "from tqdm.notebook import tqdm\n",
        "import torch.optim as optim\n",
        "import pandas as pd\n",
        "import matplotlib.pyplot as plt\n",
        "import numpy as np"
      ],
      "execution_count": 0,
      "outputs": []
    },
    {
      "cell_type": "markdown",
      "metadata": {
        "id": "M0GPqjNshI78",
        "colab_type": "text"
      },
      "source": [
        "# Homework 3\n",
        "## Point Cloud MNIST with DeepSet\n"
      ]
    },
    {
      "cell_type": "markdown",
      "metadata": {
        "id": "z06r3zSNhI78",
        "colab_type": "text"
      },
      "source": [
        "below you have a custom dataloader for the point-cloud MNIST dataset,\n",
        "\n",
        "the training and validation datasets are linked from the course website"
      ]
    },
    {
      "cell_type": "code",
      "metadata": {
        "id": "WouP1X2MhI79",
        "colab_type": "code",
        "colab": {}
      },
      "source": [
        "class CustomDataset(Dataset):\n",
        "    def __init__(self, path):\n",
        "        \n",
        "\n",
        "        \n",
        "        self.df = pd.read_hdf(path)\n",
        "        \n",
        "        self.label = torch.LongTensor(self.df.label)\n",
        "        \n",
        "        self.n_points = self.df.n_points\n",
        "        \n",
        "        \n",
        "    def __len__(self):\n",
        "       \n",
        "        return len(self.label)\n",
        "\n",
        "\n",
        "    def __getitem__(self, idx):\n",
        "        \n",
        "    \n",
        "        return torch.FloatTensor(self.df.iloc[idx].xy), self.label[idx]"
      ],
      "execution_count": 0,
      "outputs": []
    },
    {
      "cell_type": "code",
      "metadata": {
        "id": "smstIZHyhI8A",
        "colab_type": "code",
        "colab": {}
      },
      "source": [
        "ds = CustomDataset('training_ds.h5')"
      ],
      "execution_count": 0,
      "outputs": []
    },
    {
      "cell_type": "markdown",
      "metadata": {
        "id": "1Sn-7tLwhI8D",
        "colab_type": "text"
      },
      "source": [
        "#### the data is exactly like the MNIST dataset, except that instead of a 28x28 image,\n",
        "#### you get a (N x 2) array of points (different number of points for each item in the dataset) "
      ]
    },
    {
      "cell_type": "code",
      "metadata": {
        "id": "45D4hSlfhI8D",
        "colab_type": "code",
        "colab": {},
        "outputId": "195ef805-5f7a-4829-e6c6-d4b8e2e757c4"
      },
      "source": [
        "fig,ax = plt.subplots(figsize=(5,5))\n",
        "\n",
        "xy = ds[445][0]\n",
        "\n",
        "ax.scatter( xy[:,0],xy[:,1] )\n",
        "\n",
        "ax.set_axis_off()\n",
        "\n",
        "plt.show()"
      ],
      "execution_count": 0,
      "outputs": [
        {
          "output_type": "display_data",
          "data": {
            "image/png": "[encoded data removed]",
            "text/plain": [
              "<Figure size 360x360 with 1 Axes>"
            ]
          },
          "metadata": {
            "tags": [],
            "needs_background": "light"
          }
        }
      ]
    },
    {
      "cell_type": "markdown",
      "metadata": {
        "id": "BqPCptM7hI8H",
        "colab_type": "text"
      },
      "source": [
        "### the dataset object has a n_points variable that tells us how many points in each item"
      ]
    },
    {
      "cell_type": "code",
      "metadata": {
        "id": "KEQORX2ZhI8H",
        "colab_type": "code",
        "colab": {},
        "outputId": "7713e7f7-de5e-42cc-82f4-cccac0c5c065"
      },
      "source": [
        "ds.n_points"
      ],
      "execution_count": 0,
      "outputs": [
        {
          "output_type": "execute_result",
          "data": {
            "text/plain": [
              "0       117\n",
              "1       130\n",
              "2        88\n",
              "3        70\n",
              "4        97\n",
              "       ... \n",
              "9995    120\n",
              "9996    111\n",
              "9997    114\n",
              "9998     81\n",
              "9999     88\n",
              "Name: n_points, Length: 10000, dtype: object"
            ]
          },
          "metadata": {
            "tags": []
          },
          "execution_count": 6
        }
      ]
    },
    {
      "cell_type": "code",
      "metadata": {
        "id": "elM1uS75hI8J",
        "colab_type": "code",
        "colab": {},
        "outputId": "98476d37-e4e4-4293-89f1-418573e24c42"
      },
      "source": [
        "plt.hist(ds.n_points,np.linspace(19.5,260.5,242))\n",
        "plt.show()"
      ],
      "execution_count": 0,
      "outputs": [
        {
          "output_type": "display_data",
          "data": {
            "image/png": "[encoded data removed]",
            "text/plain": [
              "<Figure size 432x288 with 1 Axes>"
            ]
          },
          "metadata": {
            "tags": [],
            "needs_background": "light"
          }
        }
      ]
    },
    {
      "cell_type": "markdown",
      "metadata": {
        "id": "igwD1r2PhI8M",
        "colab_type": "text"
      },
      "source": [
        "## One way to deal with this variable size is to use a custom Batch Sampler\n",
        "\n",
        "https://pytorch.org/docs/stable/data.html\n",
        "\n",
        "This object will tell our dataloader which item indices to request for the batches - \n",
        "and we can \"rig\" it to return batches where all the items have the same N, and therefore we can stack them without a custom colate function"
      ]
    },
    {
      "cell_type": "code",
      "metadata": {
        "id": "1gQoWD1chI8N",
        "colab_type": "code",
        "colab": {}
      },
      "source": [
        "class CustomBatchSampler(Sampler):\n",
        "    def __init__(self, points_per_entry, batch_size):\n",
        "        \n",
        "        self.batch_size = batch_size\n",
        "        self.N_per_entry = points_per_entry\n",
        "        self.batches = {}\n",
        "        \n",
        "    def generate_batches(self):\n",
        "        \n",
        "        self.entries_with_N = {}\n",
        "        running_idx = -1\n",
        "\n",
        "        for N in set(self.N_per_entry):\n",
        "            \n",
        "            self.entries_with_N[N] = np.where(self.N_per_entry == N)[0]\n",
        "\n",
        "            how_many = len(self.entries_with_N[N])\n",
        "            n_batches = np.amax([ how_many / self.batch_size, 1])\n",
        "\n",
        "            self.entries_with_N[N] = np.array_split(np.random.permutation(self.entries_with_N[N]),\n",
        "                                                           n_batches)\n",
        "            for batch in self.entries_with_N[N]:\n",
        "                running_idx += 1\n",
        "                self.batches[running_idx] = batch\n",
        "\n",
        "        self.n_batches = running_idx + 1\n",
        "\n",
        "    def __len__(self):\n",
        "        return self.n_batches\n",
        "\n",
        "    def __iter__(self):\n",
        "        \n",
        "        self.generate_batches()\n",
        "        \n",
        "        batch_order = np.random.permutation(np.arange(self.n_batches))\n",
        "        for i in batch_order:\n",
        "            yield self.batches[i]"
      ],
      "execution_count": 0,
      "outputs": []
    },
    {
      "cell_type": "code",
      "metadata": {
        "id": "0rwaEJhihI8P",
        "colab_type": "code",
        "colab": {}
      },
      "source": [
        "batch_size = 50\n",
        "batch_sampler = CustomBatchSampler(ds.n_points, batch_size)\n",
        "data_loader = DataLoader(ds, batch_sampler=batch_sampler)"
      ],
      "execution_count": 0,
      "outputs": []
    },
    {
      "cell_type": "code",
      "metadata": {
        "id": "hxcPjvuchI8S",
        "colab_type": "code",
        "colab": {},
        "outputId": "df5bbb16-6b66-4364-ff39-90db66318e83"
      },
      "source": [
        "for epoch in range(3):\n",
        "    for x,y in data_loader:\n",
        "        print(x.shape)\n",
        "    break"
      ],
      "execution_count": 0,
      "outputs": [
        {
          "output_type": "stream",
          "text": [
            "torch.Size([3, 227, 2])\n",
            "torch.Size([39, 166, 2])\n",
            "torch.Size([59, 102, 2])\n",
            "torch.Size([1, 29, 2])\n",
            "torch.Size([30, 53, 2])\n",
            "torch.Size([2, 27, 2])\n",
            "torch.Size([18, 188, 2])\n",
            "torch.Size([21, 179, 2])\n",
            "torch.Size([31, 52, 2])\n",
            "torch.Size([81, 125, 2])\n",
            "torch.Size([6, 193, 2])\n",
            "torch.Size([53, 139, 2])\n",
            "torch.Size([51, 121, 2])\n",
            "torch.Size([36, 158, 2])\n",
            "torch.Size([12, 189, 2])\n",
            "torch.Size([4, 212, 2])\n",
            "torch.Size([1, 226, 2])\n",
            "torch.Size([11, 183, 2])\n",
            "torch.Size([13, 39, 2])\n",
            "torch.Size([55, 112, 2])\n",
            "torch.Size([55, 90, 2])\n",
            "torch.Size([52, 78, 2])\n",
            "torch.Size([5, 36, 2])\n",
            "torch.Size([49, 157, 2])\n",
            "torch.Size([48, 155, 2])\n",
            "torch.Size([40, 59, 2])\n",
            "torch.Size([36, 161, 2])\n",
            "torch.Size([30, 175, 2])\n",
            "torch.Size([62, 107, 2])\n",
            "torch.Size([52, 123, 2])\n",
            "torch.Size([57, 108, 2])\n",
            "torch.Size([59, 102, 2])\n",
            "torch.Size([27, 173, 2])\n",
            "torch.Size([54, 64, 2])\n",
            "torch.Size([2, 245, 2])\n",
            "torch.Size([57, 116, 2])\n",
            "torch.Size([53, 111, 2])\n",
            "torch.Size([51, 87, 2])\n",
            "torch.Size([42, 61, 2])\n",
            "torch.Size([96, 81, 2])\n",
            "torch.Size([52, 123, 2])\n",
            "torch.Size([4, 213, 2])\n",
            "torch.Size([16, 40, 2])\n",
            "torch.Size([90, 80, 2])\n",
            "torch.Size([51, 87, 2])\n",
            "torch.Size([56, 113, 2])\n",
            "torch.Size([63, 104, 2])\n",
            "torch.Size([1, 229, 2])\n",
            "torch.Size([66, 70, 2])\n",
            "torch.Size([54, 96, 2])\n",
            "torch.Size([23, 48, 2])\n",
            "torch.Size([52, 93, 2])\n",
            "torch.Size([51, 121, 2])\n",
            "torch.Size([73, 73, 2])\n",
            "torch.Size([17, 186, 2])\n",
            "torch.Size([8, 194, 2])\n",
            "torch.Size([58, 95, 2])\n",
            "torch.Size([90, 127, 2])\n",
            "torch.Size([4, 202, 2])\n",
            "torch.Size([39, 58, 2])\n",
            "torch.Size([55, 90, 2])\n",
            "torch.Size([35, 164, 2])\n",
            "torch.Size([53, 94, 2])\n",
            "torch.Size([23, 45, 2])\n",
            "torch.Size([51, 77, 2])\n",
            "torch.Size([54, 94, 2])\n",
            "torch.Size([45, 65, 2])\n",
            "torch.Size([3, 33, 2])\n",
            "torch.Size([54, 124, 2])\n",
            "torch.Size([7, 220, 2])\n",
            "torch.Size([53, 118, 2])\n",
            "torch.Size([60, 86, 2])\n",
            "torch.Size([86, 128, 2])\n",
            "torch.Size([52, 78, 2])\n",
            "torch.Size([75, 66, 2])\n",
            "torch.Size([67, 137, 2])\n",
            "torch.Size([59, 106, 2])\n",
            "torch.Size([56, 112, 2])\n",
            "torch.Size([33, 55, 2])\n",
            "torch.Size([57, 110, 2])\n",
            "torch.Size([30, 168, 2])\n",
            "torch.Size([4, 218, 2])\n",
            "torch.Size([60, 138, 2])\n",
            "torch.Size([41, 159, 2])\n",
            "torch.Size([52, 105, 2])\n",
            "torch.Size([54, 96, 2])\n",
            "torch.Size([4, 208, 2])\n",
            "torch.Size([12, 200, 2])\n",
            "torch.Size([53, 151, 2])\n",
            "torch.Size([3, 35, 2])\n",
            "torch.Size([57, 101, 2])\n",
            "torch.Size([8, 41, 2])\n",
            "torch.Size([54, 91, 2])\n",
            "torch.Size([53, 105, 2])\n",
            "torch.Size([35, 163, 2])\n",
            "torch.Size([59, 106, 2])\n",
            "torch.Size([50, 117, 2])\n",
            "torch.Size([12, 43, 2])\n",
            "torch.Size([75, 69, 2])\n",
            "torch.Size([58, 152, 2])\n",
            "torch.Size([53, 60, 2])\n",
            "torch.Size([64, 109, 2])\n",
            "torch.Size([75, 136, 2])\n",
            "torch.Size([64, 145, 2])\n",
            "torch.Size([49, 149, 2])\n",
            "torch.Size([95, 130, 2])\n",
            "torch.Size([98, 92, 2])\n",
            "torch.Size([11, 197, 2])\n",
            "torch.Size([92, 120, 2])\n",
            "torch.Size([3, 28, 2])\n",
            "torch.Size([78, 132, 2])\n",
            "torch.Size([84, 131, 2])\n",
            "torch.Size([25, 46, 2])\n",
            "torch.Size([47, 135, 2])\n",
            "torch.Size([58, 110, 2])\n",
            "torch.Size([55, 88, 2])\n",
            "torch.Size([54, 124, 2])\n",
            "torch.Size([35, 169, 2])\n",
            "torch.Size([55, 154, 2])\n",
            "torch.Size([58, 100, 2])\n",
            "torch.Size([94, 84, 2])\n",
            "torch.Size([63, 104, 2])\n",
            "torch.Size([89, 114, 2])\n",
            "torch.Size([51, 93, 2])\n",
            "torch.Size([1, 243, 2])\n",
            "torch.Size([52, 119, 2])\n",
            "torch.Size([78, 140, 2])\n",
            "torch.Size([33, 162, 2])\n",
            "torch.Size([8, 199, 2])\n",
            "torch.Size([4, 206, 2])\n",
            "torch.Size([2, 207, 2])\n",
            "torch.Size([53, 150, 2])\n",
            "torch.Size([14, 184, 2])\n",
            "torch.Size([19, 185, 2])\n",
            "torch.Size([81, 82, 2])\n",
            "torch.Size([7, 34, 2])\n",
            "torch.Size([1, 225, 2])\n",
            "torch.Size([72, 143, 2])\n",
            "torch.Size([60, 86, 2])\n",
            "torch.Size([18, 191, 2])\n",
            "torch.Size([8, 195, 2])\n",
            "torch.Size([63, 109, 2])\n",
            "torch.Size([45, 56, 2])\n",
            "torch.Size([2, 31, 2])\n",
            "torch.Size([5, 203, 2])\n",
            "torch.Size([4, 217, 2])\n",
            "torch.Size([30, 167, 2])\n",
            "torch.Size([80, 72, 2])\n",
            "torch.Size([81, 122, 2])\n",
            "torch.Size([84, 76, 2])\n",
            "torch.Size([1, 241, 2])\n",
            "torch.Size([58, 101, 2])\n",
            "torch.Size([2, 239, 2])\n",
            "torch.Size([3, 210, 2])\n",
            "torch.Size([36, 160, 2])\n",
            "torch.Size([55, 88, 2])\n",
            "torch.Size([92, 126, 2])\n",
            "torch.Size([58, 95, 2])\n",
            "torch.Size([25, 172, 2])\n",
            "torch.Size([82, 129, 2])\n",
            "torch.Size([15, 187, 2])\n",
            "torch.Size([46, 63, 2])\n",
            "torch.Size([33, 170, 2])\n",
            "torch.Size([54, 91, 2])\n",
            "torch.Size([5, 209, 2])\n",
            "torch.Size([53, 99, 2])\n",
            "torch.Size([9, 198, 2])\n",
            "torch.Size([8, 196, 2])\n",
            "torch.Size([3, 233, 2])\n",
            "torch.Size([62, 146, 2])\n",
            "torch.Size([2, 223, 2])\n",
            "torch.Size([7, 201, 2])\n",
            "torch.Size([24, 180, 2])\n",
            "torch.Size([23, 176, 2])\n",
            "torch.Size([1, 25, 2])\n",
            "torch.Size([93, 85, 2])\n",
            "torch.Size([1, 228, 2])\n",
            "torch.Size([20, 174, 2])\n",
            "torch.Size([71, 148, 2])\n",
            "torch.Size([53, 99, 2])\n",
            "torch.Size([52, 119, 2])\n",
            "torch.Size([1, 249, 2])\n",
            "torch.Size([84, 74, 2])\n",
            "torch.Size([96, 89, 2])\n",
            "torch.Size([96, 103, 2])\n",
            "torch.Size([1, 26, 2])\n",
            "torch.Size([37, 171, 2])\n",
            "torch.Size([57, 116, 2])\n",
            "torch.Size([73, 67, 2])\n",
            "torch.Size([68, 62, 2])\n",
            "torch.Size([1, 30, 2])\n",
            "torch.Size([1, 242, 2])\n",
            "torch.Size([81, 75, 2])\n",
            "torch.Size([76, 133, 2])\n",
            "torch.Size([27, 165, 2])\n",
            "torch.Size([3, 221, 2])\n",
            "torch.Size([66, 142, 2])\n",
            "torch.Size([63, 68, 2])\n",
            "torch.Size([98, 97, 2])\n",
            "torch.Size([1, 247, 2])\n",
            "torch.Size([63, 107, 2])\n",
            "torch.Size([28, 177, 2])\n",
            "torch.Size([82, 83, 2])\n",
            "torch.Size([4, 37, 2])\n",
            "torch.Size([77, 98, 2])\n",
            "torch.Size([3, 219, 2])\n",
            "torch.Size([51, 77, 2])\n",
            "torch.Size([63, 147, 2])\n",
            "torch.Size([35, 57, 2])\n",
            "torch.Size([55, 153, 2])\n",
            "torch.Size([97, 79, 2])\n",
            "torch.Size([16, 44, 2])\n",
            "torch.Size([55, 144, 2])\n",
            "torch.Size([78, 71, 2])\n",
            "torch.Size([6, 205, 2])\n",
            "torch.Size([12, 181, 2])\n",
            "torch.Size([2, 211, 2])\n",
            "torch.Size([1, 280, 2])\n",
            "torch.Size([92, 134, 2])\n",
            "torch.Size([21, 47, 2])\n",
            "torch.Size([4, 204, 2])\n",
            "torch.Size([59, 141, 2])\n",
            "torch.Size([50, 156, 2])\n",
            "torch.Size([1, 236, 2])\n",
            "torch.Size([98, 115, 2])\n",
            "torch.Size([56, 113, 2])\n",
            "torch.Size([52, 118, 2])\n",
            "torch.Size([57, 108, 2])\n",
            "torch.Size([1, 230, 2])\n",
            "torch.Size([23, 178, 2])\n",
            "torch.Size([29, 54, 2])\n",
            "torch.Size([29, 49, 2])\n",
            "torch.Size([10, 192, 2])\n",
            "torch.Size([5, 214, 2])\n",
            "torch.Size([16, 190, 2])\n",
            "torch.Size([2, 216, 2])\n",
            "torch.Size([4, 215, 2])\n",
            "torch.Size([58, 100, 2])\n",
            "torch.Size([26, 51, 2])\n",
            "torch.Size([8, 38, 2])\n",
            "torch.Size([19, 42, 2])\n",
            "torch.Size([53, 111, 2])\n",
            "torch.Size([50, 117, 2])\n",
            "torch.Size([1, 234, 2])\n",
            "torch.Size([14, 182, 2])\n",
            "torch.Size([28, 50, 2])\n"
          ],
          "name": "stdout"
        }
      ]
    },
    {
      "cell_type": "markdown",
      "metadata": {
        "id": "6x_WZJbKhI8U",
        "colab_type": "text"
      },
      "source": [
        "## Building a DeepSet model\n",
        "\n",
        "you only have three components - a fully connected network that creates the node embedding, a sum operation, and a classifier"
      ]
    },
    {
      "cell_type": "code",
      "metadata": {
        "id": "uoodjYEIhI8V",
        "colab_type": "code",
        "colab": {},
        "outputId": "0c9aa6e4-6343-42dd-c251-dd0f757dcdf1"
      },
      "source": [
        "# the linear layer operates on the last dimension:\n",
        "\n",
        "linear_layer = nn.Linear(10,5)\n",
        "\n",
        "linear_layer(  torch.rand((345,10)) ).shape, linear_layer(  torch.rand((345,76,10)) ).shape"
      ],
      "execution_count": 0,
      "outputs": [
        {
          "output_type": "execute_result",
          "data": {
            "text/plain": [
              "(torch.Size([345, 5]), torch.Size([345, 76, 5]))"
            ]
          },
          "metadata": {
            "tags": []
          },
          "execution_count": 19
        }
      ]
    },
    {
      "cell_type": "code",
      "metadata": {
        "id": "6jWv_GrLhI8Z",
        "colab_type": "code",
        "colab": {},
        "outputId": "00d39794-f580-4b3e-dbc3-e144a3abe159"
      },
      "source": [
        "# for the the mean operation you need to specify the dimension:\n",
        "\n",
        "x = torch.rand((42,15,10))\n",
        "\n",
        "torch.mean(x,dim=1).shape"
      ],
      "execution_count": 0,
      "outputs": [
        {
          "output_type": "execute_result",
          "data": {
            "text/plain": [
              "torch.Size([42, 10])"
            ]
          },
          "metadata": {
            "tags": []
          },
          "execution_count": 20
        }
      ]
    },
    {
      "cell_type": "markdown",
      "metadata": {
        "id": "9dY9iHAXhI8c",
        "colab_type": "text"
      },
      "source": [
        "## build the model, train, submit when you reach above 75% accuracy on the validation set:"
      ]
    },
    {
      "cell_type": "code",
      "metadata": {
        "id": "Xhzi8k-bhI8c",
        "colab_type": "code",
        "colab": {}
      },
      "source": [
        "class DeepSet(nn.Module):\n",
        "    def __init__(self):\n",
        "        super(DeepSet, self).__init__()\n",
        "\n",
        "\n",
        "    \n",
        "    def forward(self, x):\n",
        "        \n",
        "       \n",
        "        \n",
        "        return ... "
      ],
      "execution_count": 0,
      "outputs": []
    },
    {
      "cell_type": "code",
      "metadata": {
        "id": "RLo-6lw5hI8e",
        "colab_type": "code",
        "colab": {}
      },
      "source": [
        "net = DeepSet()"
      ],
      "execution_count": 0,
      "outputs": []
    },
    {
      "cell_type": "code",
      "metadata": {
        "id": "g8wSsQs1hI8h",
        "colab_type": "code",
        "colab": {}
      },
      "source": [
        ""
      ],
      "execution_count": 0,
      "outputs": []
    },
    {
      "cell_type": "code",
      "metadata": {
        "id": "IAfl--gahI8j",
        "colab_type": "code",
        "colab": {}
      },
      "source": [
        ""
      ],
      "execution_count": 0,
      "outputs": []
    },
    {
      "cell_type": "code",
      "metadata": {
        "id": "nHosH_lVhI8l",
        "colab_type": "code",
        "colab": {}
      },
      "source": [
        ""
      ],
      "execution_count": 0,
      "outputs": []
    },
    {
      "cell_type": "code",
      "metadata": {
        "id": "gBxM30OLhI8n",
        "colab_type": "code",
        "colab": {}
      },
      "source": [
        "def compute_accuracy(data_loader,net):\n",
        "    \n",
        "    net.eval()\n",
        "    \n",
        "    total_number = 0\n",
        "    total_correct = 0\n",
        "    \n",
        "    for x,y in data_loader:\n",
        "        \n",
        "        prediction = net(x).data.numpy()\n",
        "        \n",
        "        prediction = np.argmax(prediction,axis=1)\n",
        "        \n",
        "        correct = len( np.where(prediction==y.data.numpy())[0] )\n",
        "        \n",
        "        total_correct+=correct\n",
        "        total_number+=x.shape[0]\n",
        "        \n",
        "    return total_correct/float(total_number)"
      ],
      "execution_count": 0,
      "outputs": []
    },
    {
      "cell_type": "code",
      "metadata": {
        "id": "n3Pk4eSkhI8p",
        "colab_type": "code",
        "colab": {}
      },
      "source": [
        ""
      ],
      "execution_count": 0,
      "outputs": []
    },
    {
      "cell_type": "code",
      "metadata": {
        "id": "aebc9EFwhI8r",
        "colab_type": "code",
        "colab": {}
      },
      "source": [
        "test_ds = CustomDataset('valid_ds.h5')\n",
        "batch_size = 50\n",
        "batch_sampler_test_ds = CustomBatchSampler(test_ds.n_points, batch_size)\n",
        "data_loader_test = DataLoader(test_ds, batch_sampler=batch_sampler_test_ds)\n",
        "\n",
        "compute_accuracy(data_loader_test,net)"
      ],
      "execution_count": 0,
      "outputs": []
    },
    {
      "cell_type": "code",
      "metadata": {
        "id": "1ktvUtbFhI8u",
        "colab_type": "code",
        "colab": {}
      },
      "source": [
        ""
      ],
      "execution_count": 0,
      "outputs": []
    },
    {
      "cell_type": "code",
      "metadata": {
        "id": "Ti97s_fwhI8w",
        "colab_type": "code",
        "colab": {}
      },
      "source": [
        ""
      ],
      "execution_count": 0,
      "outputs": []
    }
  ]
}