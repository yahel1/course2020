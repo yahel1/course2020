{
  "nbformat": 4,
  "nbformat_minor": 0,
  "metadata": {
    "kernelspec": {
      "display_name": "Python 3",
      "language": "python",
      "name": "python3"
    },
    "language_info": {
      "codemirror_mode": {
        "name": "ipython",
        "version": 3
      },
      "file_extension": ".py",
      "mimetype": "text/x-python",
      "name": "python",
      "nbconvert_exporter": "python",
      "pygments_lexer": "ipython3",
      "version": "3.7.6"
    },
    "colab": {
      "name": "HW2_part_2_denoise-cats.ipynb",
      "provenance": []
    },
    "accelerator": "GPU",
    "widgets": {
      "application/vnd.jupyter.widget-state+json": {
        "e501edbf83ae41f290159ec6ef88bba6": {
          "model_module": "@jupyter-widgets/controls",
          "model_name": "HBoxModel",
          "state": {
            "_view_name": "HBoxView",
            "_dom_classes": [],
            "_model_name": "HBoxModel",
            "_view_module": "@jupyter-widgets/controls",
            "_model_module_version": "1.5.0",
            "_view_count": null,
            "_view_module_version": "1.5.0",
            "box_style": "",
            "layout": "IPY_MODEL_9d87381dd7544ac3a787310173da46e8",
            "_model_module": "@jupyter-widgets/controls",
            "children": [
              "IPY_MODEL_48e294380eed4b5aba60301179dc3591",
              "IPY_MODEL_a0174687976f4dc4be7d5411cb554636"
            ]
          }
        },
        "9d87381dd7544ac3a787310173da46e8": {
          "model_module": "@jupyter-widgets/base",
          "model_name": "LayoutModel",
          "state": {
            "_view_name": "LayoutView",
            "grid_template_rows": null,
            "right": null,
            "justify_content": null,
            "_view_module": "@jupyter-widgets/base",
            "overflow": null,
            "_model_module_version": "1.2.0",
            "_view_count": null,
            "flex_flow": null,
            "width": null,
            "min_width": null,
            "border": null,
            "align_items": null,
            "bottom": null,
            "_model_module": "@jupyter-widgets/base",
            "top": null,
            "grid_column": null,
            "overflow_y": null,
            "overflow_x": null,
            "grid_auto_flow": null,
            "grid_area": null,
            "grid_template_columns": null,
            "flex": null,
            "_model_name": "LayoutModel",
            "justify_items": null,
            "grid_row": null,
            "max_height": null,
            "align_content": null,
            "visibility": null,
            "align_self": null,
            "height": null,
            "min_height": null,
            "padding": null,
            "grid_auto_rows": null,
            "grid_gap": null,
            "max_width": null,
            "order": null,
            "_view_module_version": "1.2.0",
            "grid_template_areas": null,
            "object_position": null,
            "object_fit": null,
            "grid_auto_columns": null,
            "margin": null,
            "display": null,
            "left": null
          }
        },
        "48e294380eed4b5aba60301179dc3591": {
          "model_module": "@jupyter-widgets/controls",
          "model_name": "FloatProgressModel",
          "state": {
            "_view_name": "ProgressView",
            "style": "IPY_MODEL_ddcd6bd7e07f4abebabdf8fcf9d25ff7",
            "_dom_classes": [],
            "description": "  0%",
            "_model_name": "FloatProgressModel",
            "bar_style": "",
            "max": 10,
            "_view_module": "@jupyter-widgets/controls",
            "_model_module_version": "1.5.0",
            "value": 0,
            "_view_count": null,
            "_view_module_version": "1.5.0",
            "orientation": "horizontal",
            "min": 0,
            "description_tooltip": null,
            "_model_module": "@jupyter-widgets/controls",
            "layout": "IPY_MODEL_65b63d93599f4f9db1f85b163528e008"
          }
        },
        "a0174687976f4dc4be7d5411cb554636": {
          "model_module": "@jupyter-widgets/controls",
          "model_name": "HTMLModel",
          "state": {
            "_view_name": "HTMLView",
            "style": "IPY_MODEL_f4678aa99192495f95292808b3e27bdb",
            "_dom_classes": [],
            "description": "",
            "_model_name": "HTMLModel",
            "placeholder": "​",
            "_view_module": "@jupyter-widgets/controls",
            "_model_module_version": "1.5.0",
            "value": " 0/10 [00:00&lt;?, ?it/s]",
            "_view_count": null,
            "_view_module_version": "1.5.0",
            "description_tooltip": null,
            "_model_module": "@jupyter-widgets/controls",
            "layout": "IPY_MODEL_3e8ae343220849aba9e05127219af4c4"
          }
        },
        "ddcd6bd7e07f4abebabdf8fcf9d25ff7": {
          "model_module": "@jupyter-widgets/controls",
          "model_name": "ProgressStyleModel",
          "state": {
            "_view_name": "StyleView",
            "_model_name": "ProgressStyleModel",
            "description_width": "initial",
            "_view_module": "@jupyter-widgets/base",
            "_model_module_version": "1.5.0",
            "_view_count": null,
            "_view_module_version": "1.2.0",
            "bar_color": null,
            "_model_module": "@jupyter-widgets/controls"
          }
        },
        "65b63d93599f4f9db1f85b163528e008": {
          "model_module": "@jupyter-widgets/base",
          "model_name": "LayoutModel",
          "state": {
            "_view_name": "LayoutView",
            "grid_template_rows": null,
            "right": null,
            "justify_content": null,
            "_view_module": "@jupyter-widgets/base",
            "overflow": null,
            "_model_module_version": "1.2.0",
            "_view_count": null,
            "flex_flow": null,
            "width": null,
            "min_width": null,
            "border": null,
            "align_items": null,
            "bottom": null,
            "_model_module": "@jupyter-widgets/base",
            "top": null,
            "grid_column": null,
            "overflow_y": null,
            "overflow_x": null,
            "grid_auto_flow": null,
            "grid_area": null,
            "grid_template_columns": null,
            "flex": null,
            "_model_name": "LayoutModel",
            "justify_items": null,
            "grid_row": null,
            "max_height": null,
            "align_content": null,
            "visibility": null,
            "align_self": null,
            "height": null,
            "min_height": null,
            "padding": null,
            "grid_auto_rows": null,
            "grid_gap": null,
            "max_width": null,
            "order": null,
            "_view_module_version": "1.2.0",
            "grid_template_areas": null,
            "object_position": null,
            "object_fit": null,
            "grid_auto_columns": null,
            "margin": null,
            "display": null,
            "left": null
          }
        },
        "f4678aa99192495f95292808b3e27bdb": {
          "model_module": "@jupyter-widgets/controls",
          "model_name": "DescriptionStyleModel",
          "state": {
            "_view_name": "StyleView",
            "_model_name": "DescriptionStyleModel",
            "description_width": "",
            "_view_module": "@jupyter-widgets/base",
            "_model_module_version": "1.5.0",
            "_view_count": null,
            "_view_module_version": "1.2.0",
            "_model_module": "@jupyter-widgets/controls"
          }
        },
        "3e8ae343220849aba9e05127219af4c4": {
          "model_module": "@jupyter-widgets/base",
          "model_name": "LayoutModel",
          "state": {
            "_view_name": "LayoutView",
            "grid_template_rows": null,
            "right": null,
            "justify_content": null,
            "_view_module": "@jupyter-widgets/base",
            "overflow": null,
            "_model_module_version": "1.2.0",
            "_view_count": null,
            "flex_flow": null,
            "width": null,
            "min_width": null,
            "border": null,
            "align_items": null,
            "bottom": null,
            "_model_module": "@jupyter-widgets/base",
            "top": null,
            "grid_column": null,
            "overflow_y": null,
            "overflow_x": null,
            "grid_auto_flow": null,
            "grid_area": null,
            "grid_template_columns": null,
            "flex": null,
            "_model_name": "LayoutModel",
            "justify_items": null,
            "grid_row": null,
            "max_height": null,
            "align_content": null,
            "visibility": null,
            "align_self": null,
            "height": null,
            "min_height": null,
            "padding": null,
            "grid_auto_rows": null,
            "grid_gap": null,
            "max_width": null,
            "order": null,
            "_view_module_version": "1.2.0",
            "grid_template_areas": null,
            "object_position": null,
            "object_fit": null,
            "grid_auto_columns": null,
            "margin": null,
            "display": null,
            "left": null
          }
        }
      }
    }
  },
  "cells": [
    {
      "cell_type": "code",
      "metadata": {
        "id": "eg96sfZYVtna",
        "colab_type": "code",
        "colab": {}
      },
      "source": [
        "from torchvision import datasets, transforms\n",
        "import numpy as np\n",
        "import os\n",
        "import torch\n",
        "from torch.utils.data import Dataset, DataLoader\n",
        "import matplotlib.pyplot as plt\n",
        "import torch.nn as nn\n",
        "import torch.nn.functional as F\n",
        "import torchvision.models as models\n",
        "import matplotlib.patches as patches\n",
        "from skimage.draw import random_shapes"
      ],
      "execution_count": 0,
      "outputs": []
    },
    {
      "cell_type": "code",
      "metadata": {
        "id": "M4CNxVk4Gnp6",
        "colab_type": "code",
        "colab": {}
      },
      "source": [
        "os.environ[\"CUDA_VISIBLE_DEVICES\"]=\"0\"\n",
        "\n",
        "device = torch.device('cuda:0' if torch.cuda.is_available() else 'cpu' )"
      ],
      "execution_count": 0,
      "outputs": []
    },
    {
      "cell_type": "code",
      "metadata": {
        "id": "6u0M9mFwGm4l",
        "colab_type": "code",
        "colab": {
          "base_uri": "https://localhost:8080/",
          "height": 54
        },
        "outputId": "d39ac716-5c6d-4589-dc22-5ac30db4186e"
      },
      "source": [
        "from google.colab import drive\n",
        "drive.mount('/content/drive')"
      ],
      "execution_count": 4,
      "outputs": [
        {
          "output_type": "stream",
          "text": [
            "Drive already mounted at /content/drive; to attempt to forcibly remount, call drive.mount(\"/content/drive\", force_remount=True).\n"
          ],
          "name": "stdout"
        }
      ]
    },
    {
      "cell_type": "markdown",
      "metadata": {
        "id": "tw_3-guWVtne",
        "colab_type": "text"
      },
      "source": [
        "# Homework 2, part 2\n",
        "\n",
        "1. below you will find a dataloader for the cats dataset (link to dataset file on the course website)\n",
        "\n",
        "2. the function to add noise to the dataset is built into the dataloader\n",
        "\n",
        "3. build a model that takes in the 256x256 image, and outputs an image of the same size \n",
        "\n",
        "4. use the nn.MSELoss() function\n",
        "\n",
        "5. train the network\n",
        "\n",
        "6. submit when you feel your network is doing a decent job at cleaning the images (remember to submit both model weights and source code)"
      ]
    },
    {
      "cell_type": "code",
      "metadata": {
        "id": "uG4vksefVtnf",
        "colab_type": "code",
        "colab": {}
      },
      "source": [
        "dir_path = 'drive/My Drive/Colab Notebooks/HW2'"
      ],
      "execution_count": 0,
      "outputs": []
    },
    {
      "cell_type": "code",
      "metadata": {
        "id": "dkpPMfT3Vtni",
        "colab_type": "code",
        "colab": {}
      },
      "source": [
        "from torch.utils.data import Dataset, DataLoader\n",
        "import torch.nn as nn\n",
        "\n",
        "\n",
        "class CustomDataset(Dataset):\n",
        "    def __init__(self, path, start_idx, end_idx):\n",
        "\n",
        "        self.data = np.load(path)\n",
        "        self.data = self.data[start_idx:end_idx]\n",
        "\n",
        "    def __len__(self):\n",
        "       \n",
        "        return len(self.data)\n",
        "    \n",
        "    def add_noise(self,y):\n",
        "        newimg = random_shapes((256, 256),min_shapes=30,max_shapes=42,\n",
        "                       multichannel=False, min_size=20,max_size=30,allow_overlap=True)[0]/255.0\n",
        "        x = y.copy()\n",
        "        x[np.where(newimg < 0.9)] = x[np.where(newimg < 0.9)]+1-newimg[newimg < 0.9]\n",
        "        return x\n",
        "\n",
        "    def __getitem__(self, idx):\n",
        "\n",
        "        y = self.data[idx]\n",
        "\n",
        "        x = torch.FloatTensor(self.add_noise(y)).unsqueeze(0)\n",
        "        # x = x.repeat(3, 1, 1)\n",
        "\n",
        "        return x, torch.FloatTensor(y).unsqueeze(0)"
      ],
      "execution_count": 0,
      "outputs": []
    },
    {
      "cell_type": "code",
      "metadata": {
        "id": "HkvKWkSOVtnl",
        "colab_type": "code",
        "colab": {}
      },
      "source": [
        "data_path = os.path.join(dir_path, 'cats.npy')\n",
        "train_ds = CustomDataset(data_path, 0, 800)\n",
        "valid_ds = CustomDataset(data_path, 800, 1000)"
      ],
      "execution_count": 0,
      "outputs": []
    },
    {
      "cell_type": "code",
      "metadata": {
        "id": "4xT_dpJiVtns",
        "colab_type": "code",
        "colab": {}
      },
      "source": [
        "x, y = train_ds[66]"
      ],
      "execution_count": 0,
      "outputs": []
    },
    {
      "cell_type": "code",
      "metadata": {
        "id": "vFI2qurcVtn0",
        "colab_type": "code",
        "outputId": "3933e7cf-4e06-4b19-e782-115c2327f245",
        "colab": {
          "base_uri": "https://localhost:8080/",
          "height": 34
        }
      },
      "source": [
        "x.shape"
      ],
      "execution_count": 9,
      "outputs": [
        {
          "output_type": "execute_result",
          "data": {
            "text/plain": [
              "torch.Size([1, 256, 256])"
            ]
          },
          "metadata": {
            "tags": []
          },
          "execution_count": 9
        }
      ]
    },
    {
      "cell_type": "code",
      "metadata": {
        "id": "P_Iki2ZAVtn3",
        "colab_type": "code",
        "outputId": "75b47995-ec45-4c9a-b9bd-719f3ce8a35e",
        "colab": {
          "base_uri": "https://localhost:8080/",
          "height": 364
        }
      },
      "source": [
        "fig,ax = plt.subplots(1,2,figsize=(6,3),dpi=150)\n",
        "\n",
        "ax[0].imshow(y[0],cmap='gist_yarg',vmin=0,vmax=1)\n",
        "ax[1].imshow(x[0],cmap='gist_yarg',vmin=0,vmax=1)\n",
        "\n",
        "for i in range(2):\n",
        "    ax[i].set_axis_off()\n",
        "\n",
        "plt.show()"
      ],
      "execution_count": 10,
      "outputs": [
        {
          "output_type": "display_data",
          "data": {
            "image/png": "[encoded data removed]",
            "text/plain": [
              "<Figure size 900x450 with 2 Axes>"
            ]
          },
          "metadata": {
            "tags": [],
            "needs_background": "light"
          }
        }
      ]
    },
    {
      "cell_type": "code",
      "metadata": {
        "id": "PA-zPPRzVtn5",
        "colab_type": "code",
        "colab": {}
      },
      "source": [
        "conv_layer = nn.Conv2d(1, 512, 5, padding=2)"
      ],
      "execution_count": 0,
      "outputs": []
    },
    {
      "cell_type": "code",
      "metadata": {
        "id": "CRS-RqV4Vtn7",
        "colab_type": "code",
        "outputId": "dbd3adbd-04da-4bc8-8005-eaadce48c656",
        "colab": {
          "base_uri": "https://localhost:8080/",
          "height": 34
        }
      },
      "source": [
        "batch_of_one = x.unsqueeze(0)\n",
        "\n",
        "batch_of_one.shape"
      ],
      "execution_count": 12,
      "outputs": [
        {
          "output_type": "execute_result",
          "data": {
            "text/plain": [
              "torch.Size([1, 1, 256, 256])"
            ]
          },
          "metadata": {
            "tags": []
          },
          "execution_count": 12
        }
      ]
    },
    {
      "cell_type": "code",
      "metadata": {
        "id": "fLBTyQoOVtn9",
        "colab_type": "code",
        "outputId": "30f99e5b-aa52-42b2-cd7d-3bb018f8c8f8",
        "colab": {
          "base_uri": "https://localhost:8080/",
          "height": 34
        }
      },
      "source": [
        "conv_layer(batch_of_one).shape"
      ],
      "execution_count": 13,
      "outputs": [
        {
          "output_type": "execute_result",
          "data": {
            "text/plain": [
              "torch.Size([1, 512, 256, 256])"
            ]
          },
          "metadata": {
            "tags": []
          },
          "execution_count": 13
        }
      ]
    },
    {
      "cell_type": "code",
      "metadata": {
        "id": "K1nUKvY8VtoA",
        "colab_type": "code",
        "colab": {}
      },
      "source": [
        "class Denoise(nn.Module):\n",
        "\n",
        "    def __init__(self, n_in=1):\n",
        "        super(Denoise, self).__init__()\n",
        "        self.n_in  = n_in\n",
        "        self.filters1 = 128\n",
        "        self.filters2 = 256\n",
        "        self.filters3 = 512\n",
        "        self.filters4 = 800\n",
        "        self.filters5 = 1000\n",
        "\n",
        "        self.conv = nn.Sequential(\n",
        "              nn.Conv2d(1, self.filters1, 5, padding=2),\n",
        "              nn.ReLU(),\n",
        "              nn.Conv2d(self.filters1, self.filters2, 5, padding=2),\n",
        "              nn.ReLU(),\n",
        "              nn.Conv2d(self.filters2, self.filters3, 3, padding=1),\n",
        "              nn.ReLU(),\n",
        "              nn.Conv2d(self.filters3, self.filters4, 5, padding=2),\n",
        "              nn.ReLU(),\n",
        "              nn.Conv2d(self.filters4, self.filters5, 3, padding=1),\n",
        "              nn.ReLU(),\n",
        "              nn.Conv2d(self.filters5, self.n_in, 5, padding=2)\n",
        "                                )\n",
        "\n",
        "    def forward(self, x):\n",
        "        out = self.conv(x)\n",
        "        return out\n"
      ],
      "execution_count": 0,
      "outputs": []
    },
    {
      "cell_type": "code",
      "metadata": {
        "id": "XxgBhcubVtoE",
        "colab_type": "code",
        "colab": {
          "base_uri": "https://localhost:8080/",
          "height": 34
        },
        "outputId": "8fd496dc-dfbb-4217-f0b9-55c8d5815cb7"
      },
      "source": [
        "model = Denoise()\n",
        "if torch.cuda.is_available():\n",
        "    model.cuda()\n",
        "    print('cuda')"
      ],
      "execution_count": 15,
      "outputs": [
        {
          "output_type": "stream",
          "text": [
            "cuda\n"
          ],
          "name": "stdout"
        }
      ]
    },
    {
      "cell_type": "code",
      "metadata": {
        "id": "YboRlG-MVtoG",
        "colab_type": "code",
        "colab": {}
      },
      "source": [
        "import torch.optim as optim \n",
        "\n",
        "loss_func = nn.MSELoss()\n",
        "optimizer = optim.SGD(model.parameters(), lr=0.01, momentum=0.9) "
      ],
      "execution_count": 0,
      "outputs": []
    },
    {
      "cell_type": "code",
      "metadata": {
        "id": "rfrI6jPY6CtH",
        "colab_type": "code",
        "colab": {}
      },
      "source": [
        "tranining_tensor = torch.stack([train_ds[i][0] for i in range(len(train_ds))])\n",
        "training_labels = torch.stack([train_ds[i][1] for i in range(len(train_ds))])\n",
        "\n",
        "validation_tensor = torch.stack([valid_ds[i][0] for i in range(len(valid_ds))])\n",
        "validation_labels = torch.stack([valid_ds[i][1] for i in range(len(valid_ds))])\n",
        "\n",
        "batch_size = 4\n",
        "training_dataloader = DataLoader(train_ds, batch_size=batch_size, shuffle=True)\n",
        "valid_dataloader = DataLoader(valid_ds, batch_size=batch_size)\n"
      ],
      "execution_count": 0,
      "outputs": []
    },
    {
      "cell_type": "code",
      "metadata": {
        "id": "Dt_ER8MK6xbV",
        "colab_type": "code",
        "colab": {
          "base_uri": "https://localhost:8080/",
          "height": 66,
          "referenced_widgets": [
            "e501edbf83ae41f290159ec6ef88bba6",
            "9d87381dd7544ac3a787310173da46e8",
            "48e294380eed4b5aba60301179dc3591",
            "a0174687976f4dc4be7d5411cb554636",
            "ddcd6bd7e07f4abebabdf8fcf9d25ff7",
            "65b63d93599f4f9db1f85b163528e008",
            "f4678aa99192495f95292808b3e27bdb",
            "3e8ae343220849aba9e05127219af4c4"
          ]
        },
        "outputId": "c2640fcb-f28a-4ee9-dca6-7dd2786b9850"
      },
      "source": [
        "from tqdm.notebook import tqdm\n",
        "\n",
        "n_epochs = 10\n",
        "n_training = len(train_ds)\n",
        "\n",
        "loss_vs_epoch = []\n",
        "\n",
        "for epoch in tqdm(range(n_epochs)):\n",
        "\n",
        "    loss_array, n_correct_array = [], []\n",
        "    model.train()\n",
        "    for ind, (x, y) in enumerate(training_dataloader):\n",
        "        optimizer.zero_grad()\n",
        "        pred = model(x.to(device))   \n",
        "        loss = loss_func(pred, y.to(device))    \n",
        "        loss_array.append(loss.item())\n",
        "        loss.backward()\n",
        "        optimizer.step()\n",
        "        print(f'\\r epoch {epoch} - loss: {sum(loss_array)/len(loss_array):.3f}, progression: {100*ind/len(training_dataloader):.1f}%', end='')\n",
        "\n",
        "    train_loss = sum(loss_array)/len(loss_array)\n",
        "\n",
        "    model.eval()\n",
        "    with torch.no_grad():\n",
        "        for x, y in training_dataloader:\n",
        "            pred = model(x.to(device))   \n",
        "            loss = loss_func(pred, y.to(device))    \n",
        "            loss_array.append(loss.item())\n",
        "\n",
        "    valid_loss = sum(loss_array)/len(loss_array)\n",
        "\n",
        "    loss_vs_epoch.append([train_loss, valid_loss])\n",
        "\n",
        "loss_vs_epoch\n"
      ],
      "execution_count": 0,
      "outputs": [
        {
          "output_type": "display_data",
          "data": {
            "application/vnd.jupyter.widget-view+json": {
              "model_id": "e501edbf83ae41f290159ec6ef88bba6",
              "version_minor": 0,
              "version_major": 2
            },
            "text/plain": [
              "HBox(children=(FloatProgress(value=0.0, max=10.0), HTML(value='')))"
            ]
          },
          "metadata": {
            "tags": []
          }
        },
        {
          "output_type": "stream",
          "text": [
            " epoch 0 - loss: 0.145, progression: 4.0%"
          ],
          "name": "stdout"
        }
      ]
    },
    {
      "cell_type": "code",
      "metadata": {
        "id": "Mn5hbcx0VtoK",
        "colab_type": "code",
        "colab": {}
      },
      "source": [
        "x, y = valid_ds[120]\n",
        "\n",
        "fig,ax = plt.subplots(2,3,figsize=(6,(6/3)*2),dpi=250)\n",
        "\n",
        "net.cpu()\n",
        "net.eval()\n",
        "\n",
        "input_img = x[0]\n",
        "model_pred = net(x.unsqueeze(0))[0].cpu().data.numpy()[0]\n",
        "\n",
        "ground_truth = y[0]\n",
        "\n",
        "patch_xy = [80,100]\n",
        "patch_hw = [100,100]\n",
        "\n",
        "\n",
        "ax[0][0].set_title('Input',fontsize=12)\n",
        "ax[0][1].set_title('Model Output',fontsize=12)\n",
        "ax[0][2].set_title('Target',fontsize=12)\n",
        "\n",
        "ax[0][0].imshow(input_img,cmap='gist_yarg',vmin=0,vmax=1)\n",
        "ax[0][1].imshow(model_pred,cmap='gist_yarg',vmin=0,vmax=1)\n",
        "ax[0][2].imshow(ground_truth,cmap='gist_yarg',vmin=0,vmax=1)\n",
        "\n",
        "\n",
        "for i in range(0,3):\n",
        "    rect = patches.Rectangle(patch_xy,patch_hw[0],patch_hw[1],linewidth=1,edgecolor='r',facecolor='none')\n",
        "    ax[0][i].add_patch(rect)\n",
        "\n",
        "\n",
        "input_img    = input_img[patch_xy[1]:patch_xy[1]+patch_hw[1],patch_xy[0]:patch_xy[0]+patch_hw[0]] \n",
        "model_pred   = model_pred[patch_xy[1]:patch_xy[1]+patch_hw[1],patch_xy[0]:patch_xy[0]+patch_hw[0]]    \n",
        "ground_truth = ground_truth[patch_xy[1]:patch_xy[1]+patch_hw[1],patch_xy[0]:patch_xy[0]+patch_hw[0]] \n",
        "\n",
        "\n",
        "ax[1][0].imshow(input_img,cmap='gist_yarg',vmin=0,vmax=1)\n",
        "ax[1][1].imshow(model_pred,cmap='gist_yarg',vmin=0,vmax=1)\n",
        "ax[1][2].imshow(ground_truth,cmap='gist_yarg',vmin=0,vmax=1)\n",
        "\n",
        "\n",
        "for i in range(3):\n",
        "    for j in range(2):\n",
        "        ax[j][i].set_axis_off()\n",
        "\n",
        "plt.tight_layout()\n",
        "plt.show()"
      ],
      "execution_count": 0,
      "outputs": []
    },
    {
      "cell_type": "code",
      "metadata": {
        "id": "V70bKr_bVtoL",
        "colab_type": "code",
        "colab": {}
      },
      "source": [
        ""
      ],
      "execution_count": 0,
      "outputs": []
    },
    {
      "cell_type": "code",
      "metadata": {
        "id": "oxBo5UYsVtoN",
        "colab_type": "code",
        "colab": {}
      },
      "source": [
        ""
      ],
      "execution_count": 0,
      "outputs": []
    }
  ]
}