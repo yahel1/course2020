{
  "nbformat": 4,
  "nbformat_minor": 0,
  "metadata": {
    "kernelspec": {
      "display_name": "Python 3",
      "language": "python",
      "name": "python3"
    },
    "language_info": {
      "codemirror_mode": {
        "name": "ipython",
        "version": 3
      },
      "file_extension": ".py",
      "mimetype": "text/x-python",
      "name": "python",
      "nbconvert_exporter": "python",
      "pygments_lexer": "ipython3",
      "version": "3.7.6"
    },
    "colab": {
      "name": "HW2_part_1_transfer_learning.ipynb",
      "provenance": []
    },
    "accelerator": "GPU",
    "widgets": {
      "application/vnd.jupyter.widget-state+json": {
        "d90e1de43c2841f29b00fb4f9366e801": {
          "model_module": "@jupyter-widgets/controls",
          "model_name": "HBoxModel",
          "state": {
            "_view_name": "HBoxView",
            "_dom_classes": [],
            "_model_name": "HBoxModel",
            "_view_module": "@jupyter-widgets/controls",
            "_model_module_version": "1.5.0",
            "_view_count": null,
            "_view_module_version": "1.5.0",
            "box_style": "",
            "layout": "IPY_MODEL_aff61f63e905415ea5cb918d2ce62809",
            "_model_module": "@jupyter-widgets/controls",
            "children": [
              "IPY_MODEL_7c87e65cf7004970b2636349d40b66c1",
              "IPY_MODEL_bb4b8641d2804ac3bd548a4316509c07"
            ]
          }
        },
        "aff61f63e905415ea5cb918d2ce62809": {
          "model_module": "@jupyter-widgets/base",
          "model_name": "LayoutModel",
          "state": {
            "_view_name": "LayoutView",
            "grid_template_rows": null,
            "right": null,
            "justify_content": null,
            "_view_module": "@jupyter-widgets/base",
            "overflow": null,
            "_model_module_version": "1.2.0",
            "_view_count": null,
            "flex_flow": null,
            "width": null,
            "min_width": null,
            "border": null,
            "align_items": null,
            "bottom": null,
            "_model_module": "@jupyter-widgets/base",
            "top": null,
            "grid_column": null,
            "overflow_y": null,
            "overflow_x": null,
            "grid_auto_flow": null,
            "grid_area": null,
            "grid_template_columns": null,
            "flex": null,
            "_model_name": "LayoutModel",
            "justify_items": null,
            "grid_row": null,
            "max_height": null,
            "align_content": null,
            "visibility": null,
            "align_self": null,
            "height": null,
            "min_height": null,
            "padding": null,
            "grid_auto_rows": null,
            "grid_gap": null,
            "max_width": null,
            "order": null,
            "_view_module_version": "1.2.0",
            "grid_template_areas": null,
            "object_position": null,
            "object_fit": null,
            "grid_auto_columns": null,
            "margin": null,
            "display": null,
            "left": null
          }
        },
        "7c87e65cf7004970b2636349d40b66c1": {
          "model_module": "@jupyter-widgets/controls",
          "model_name": "FloatProgressModel",
          "state": {
            "_view_name": "ProgressView",
            "style": "IPY_MODEL_fe1e2d6fc342475faa2db99f53bcee1a",
            "_dom_classes": [],
            "description": "100%",
            "_model_name": "FloatProgressModel",
            "bar_style": "success",
            "max": 46827520,
            "_view_module": "@jupyter-widgets/controls",
            "_model_module_version": "1.5.0",
            "value": 46827520,
            "_view_count": null,
            "_view_module_version": "1.5.0",
            "orientation": "horizontal",
            "min": 0,
            "description_tooltip": null,
            "_model_module": "@jupyter-widgets/controls",
            "layout": "IPY_MODEL_552b2c62ab2b499f9c9af0ef73309012"
          }
        },
        "bb4b8641d2804ac3bd548a4316509c07": {
          "model_module": "@jupyter-widgets/controls",
          "model_name": "HTMLModel",
          "state": {
            "_view_name": "HTMLView",
            "style": "IPY_MODEL_6700a772cb5843669a137de3dcf2add6",
            "_dom_classes": [],
            "description": "",
            "_model_name": "HTMLModel",
            "placeholder": "​",
            "_view_module": "@jupyter-widgets/controls",
            "_model_module_version": "1.5.0",
            "value": " 44.7M/44.7M [00:00&lt;00:00, 132MB/s]",
            "_view_count": null,
            "_view_module_version": "1.5.0",
            "description_tooltip": null,
            "_model_module": "@jupyter-widgets/controls",
            "layout": "IPY_MODEL_c042af73551c464794ecf7c27ddcf0c1"
          }
        },
        "fe1e2d6fc342475faa2db99f53bcee1a": {
          "model_module": "@jupyter-widgets/controls",
          "model_name": "ProgressStyleModel",
          "state": {
            "_view_name": "StyleView",
            "_model_name": "ProgressStyleModel",
            "description_width": "initial",
            "_view_module": "@jupyter-widgets/base",
            "_model_module_version": "1.5.0",
            "_view_count": null,
            "_view_module_version": "1.2.0",
            "bar_color": null,
            "_model_module": "@jupyter-widgets/controls"
          }
        },
        "552b2c62ab2b499f9c9af0ef73309012": {
          "model_module": "@jupyter-widgets/base",
          "model_name": "LayoutModel",
          "state": {
            "_view_name": "LayoutView",
            "grid_template_rows": null,
            "right": null,
            "justify_content": null,
            "_view_module": "@jupyter-widgets/base",
            "overflow": null,
            "_model_module_version": "1.2.0",
            "_view_count": null,
            "flex_flow": null,
            "width": null,
            "min_width": null,
            "border": null,
            "align_items": null,
            "bottom": null,
            "_model_module": "@jupyter-widgets/base",
            "top": null,
            "grid_column": null,
            "overflow_y": null,
            "overflow_x": null,
            "grid_auto_flow": null,
            "grid_area": null,
            "grid_template_columns": null,
            "flex": null,
            "_model_name": "LayoutModel",
            "justify_items": null,
            "grid_row": null,
            "max_height": null,
            "align_content": null,
            "visibility": null,
            "align_self": null,
            "height": null,
            "min_height": null,
            "padding": null,
            "grid_auto_rows": null,
            "grid_gap": null,
            "max_width": null,
            "order": null,
            "_view_module_version": "1.2.0",
            "grid_template_areas": null,
            "object_position": null,
            "object_fit": null,
            "grid_auto_columns": null,
            "margin": null,
            "display": null,
            "left": null
          }
        },
        "6700a772cb5843669a137de3dcf2add6": {
          "model_module": "@jupyter-widgets/controls",
          "model_name": "DescriptionStyleModel",
          "state": {
            "_view_name": "StyleView",
            "_model_name": "DescriptionStyleModel",
            "description_width": "",
            "_view_module": "@jupyter-widgets/base",
            "_model_module_version": "1.5.0",
            "_view_count": null,
            "_view_module_version": "1.2.0",
            "_model_module": "@jupyter-widgets/controls"
          }
        },
        "c042af73551c464794ecf7c27ddcf0c1": {
          "model_module": "@jupyter-widgets/base",
          "model_name": "LayoutModel",
          "state": {
            "_view_name": "LayoutView",
            "grid_template_rows": null,
            "right": null,
            "justify_content": null,
            "_view_module": "@jupyter-widgets/base",
            "overflow": null,
            "_model_module_version": "1.2.0",
            "_view_count": null,
            "flex_flow": null,
            "width": null,
            "min_width": null,
            "border": null,
            "align_items": null,
            "bottom": null,
            "_model_module": "@jupyter-widgets/base",
            "top": null,
            "grid_column": null,
            "overflow_y": null,
            "overflow_x": null,
            "grid_auto_flow": null,
            "grid_area": null,
            "grid_template_columns": null,
            "flex": null,
            "_model_name": "LayoutModel",
            "justify_items": null,
            "grid_row": null,
            "max_height": null,
            "align_content": null,
            "visibility": null,
            "align_self": null,
            "height": null,
            "min_height": null,
            "padding": null,
            "grid_auto_rows": null,
            "grid_gap": null,
            "max_width": null,
            "order": null,
            "_view_module_version": "1.2.0",
            "grid_template_areas": null,
            "object_position": null,
            "object_fit": null,
            "grid_auto_columns": null,
            "margin": null,
            "display": null,
            "left": null
          }
        }
      }
    }
  },
  "cells": [
    {
      "cell_type": "code",
      "metadata": {
        "id": "8oq4nfPX5feB",
        "colab_type": "code",
        "colab": {}
      },
      "source": [
        "import glob\n",
        "import os\n",
        "from PIL import Image\n",
        "from torchvision import datasets, transforms\n",
        "import numpy as np\n",
        "import torch\n",
        "from torch.utils.data import Dataset, DataLoader\n",
        "import matplotlib.pyplot as plt\n",
        "import torch.nn as nn\n",
        "import torch.nn.functional as F\n",
        "import torchvision.models as models\n"
      ],
      "execution_count": 0,
      "outputs": []
    },
    {
      "cell_type": "code",
      "metadata": {
        "id": "fw5s1MbBfYQ9",
        "colab_type": "code",
        "outputId": "edd7029c-ef53-4210-a7b6-893f08b8d2a1",
        "colab": {
          "base_uri": "https://localhost:8080/",
          "height": 124
        }
      },
      "source": [
        "from google.colab import drive\n",
        "drive.mount('/content/drive')"
      ],
      "execution_count": 2,
      "outputs": [
        {
          "output_type": "stream",
          "text": [
            "Go to this URL in a browser: https://accounts.google.com/o/oauth2/auth?client_id=947318989803-6bn6qk8qdgf4n4g3pfee6491hc0brc4i.apps.googleusercontent.com&redirect_uri=urn%3aietf%3awg%3aoauth%3a2.0%3aoob&response_type=code&scope=email%20https%3a%2f%2fwww.googleapis.com%2fauth%2fdocs.test%20https%3a%2f%2fwww.googleapis.com%2fauth%2fdrive%20https%3a%2f%2fwww.googleapis.com%2fauth%2fdrive.photos.readonly%20https%3a%2f%2fwww.googleapis.com%2fauth%2fpeopleapi.readonly\n",
            "\n",
            "Enter your authorization code:\n",
            "··········\n",
            "Mounted at /content/drive\n"
          ],
          "name": "stdout"
        }
      ]
    },
    {
      "cell_type": "markdown",
      "metadata": {
        "id": "RAJL93fH5feE",
        "colab_type": "text"
      },
      "source": [
        "# Homework 2, part 1\n",
        "\n",
        "## transfer learning\n",
        "1. below you will find the dataset object for the galaxy dataset from homework 1, except that now it outputs a 69x69 image (no flattening), and the single grayscale channel is repeated 3 times to give a 3x69x69 image\n",
        "\n",
        "2. load a pre-trained network from pytorchs selection https://pytorch.org/docs/stable/torchvision/models.html\n",
        "\n",
        "3. create a network to classify the galaxy image dataset with some parts from the pretrained network\n",
        "\n",
        "4. train the new network\n",
        "\n",
        "5. when you reach over 75% accuracy on the validation dataset, submit your trained model (state_dict and source code)\n",
        "\n",
        "6. double check that if you train the same model without the pre-trained weights, it will perform worse (no need to submit this model) "
      ]
    },
    {
      "cell_type": "code",
      "metadata": {
        "id": "yFb46T3S5feE",
        "colab_type": "code",
        "colab": {}
      },
      "source": [
        "os.environ[\"CUDA_VISIBLE_DEVICES\"]=\"0\"\n",
        "\n",
        "device = torch.device('cuda:0' if torch.cuda.is_available() else 'cpu' )"
      ],
      "execution_count": 0,
      "outputs": []
    },
    {
      "cell_type": "code",
      "metadata": {
        "id": "I4d3FyPTGM9t",
        "colab_type": "code",
        "colab": {}
      },
      "source": [
        "import zipfile\n",
        "import io\n",
        "dir_path = 'drive/My Drive/Colab Notebooks/HW2'\n",
        "\n",
        "zip_ref = zipfile.ZipFile(os.path.join(dir_path, 'Dataset.zip'), 'r')\n",
        "zip_ref.extractall()\n",
        "\n",
        "path_to_training_data = 'Dataset/train/'\n",
        "path_to_validation_data = 'Dataset/validation/'"
      ],
      "execution_count": 0,
      "outputs": []
    },
    {
      "cell_type": "code",
      "metadata": {
        "id": "hslNqV1m5feI",
        "colab_type": "code",
        "colab": {}
      },
      "source": [
        "import glob\n",
        "from PIL import Image\n",
        "from PIL import ImageFilter\n",
        "from torchvision import datasets, transforms\n",
        "import numpy as np\n",
        "import torch\n",
        "from torch.utils.data import Dataset, DataLoader\n",
        "import torch.nn as nn\n",
        "\n",
        "\n",
        "class CustomDataset(Dataset):\n",
        "    def __init__(self, path,mean=0.092,std=0.127,n_classes=10,transform=False):\n",
        "        \n",
        "        self.mean = mean\n",
        "        self.std = std\n",
        "        \n",
        "        self.do_transform = transform\n",
        "        self.transform = transforms.RandomRotation(180)\n",
        "        \n",
        "        self.filelist = glob.glob(path+'/*.png')\n",
        "        \n",
        "        self.labels = np.zeros(len(self.filelist))\n",
        "        \n",
        "        for class_i in range(n_classes):\n",
        "            self.labels[ np.array(['class'+str(class_i) in x for x in self.filelist]) ] = class_i\n",
        "        self.labels = torch.LongTensor(self.labels)\n",
        "      \n",
        "        self.imgs = []\n",
        "        for fname in self.filelist:\n",
        "            img = Image.open(fname)\n",
        "            self.imgs.append(img)\n",
        "  \n",
        "    def __len__(self):\n",
        "       \n",
        "        return len(self.filelist)\n",
        "\n",
        "    def __getitem__(self, idx):\n",
        "        \n",
        "        img = self.imgs[idx]\n",
        "    \n",
        "        if self.do_transform:\n",
        "            \n",
        "            img = self.transform(img)\n",
        "        \n",
        "        \n",
        "        x = transforms.ToTensor()(img)\n",
        "        \n",
        "        x = (x-self.mean)/self.std\n",
        "        \n",
        "        x = x.repeat(3,1,1)\n",
        "        \n",
        "        \n",
        "        class_label = self.labels[idx]\n",
        "        \n",
        "        return x, class_label"
      ],
      "execution_count": 0,
      "outputs": []
    },
    {
      "cell_type": "code",
      "metadata": {
        "id": "xEZtl-4c5feK",
        "colab_type": "code",
        "colab": {}
      },
      "source": [
        "train_ds = CustomDataset(path_to_training_data,transform=False)\n",
        "valid_ds = CustomDataset(path_to_validation_data,transform=False)"
      ],
      "execution_count": 0,
      "outputs": []
    },
    {
      "cell_type": "code",
      "metadata": {
        "id": "MVGNQlmj5feM",
        "colab_type": "code",
        "colab": {}
      },
      "source": [
        "x,y = train_ds[553]"
      ],
      "execution_count": 0,
      "outputs": []
    },
    {
      "cell_type": "code",
      "metadata": {
        "id": "qckJRhOE5feP",
        "colab_type": "code",
        "outputId": "40849924-c724-4c41-fc91-a406c395f240",
        "colab": {
          "base_uri": "https://localhost:8080/",
          "height": 35
        }
      },
      "source": [
        "x.shape"
      ],
      "execution_count": 8,
      "outputs": [
        {
          "output_type": "execute_result",
          "data": {
            "text/plain": [
              "torch.Size([3, 69, 69])"
            ]
          },
          "metadata": {
            "tags": []
          },
          "execution_count": 8
        }
      ]
    },
    {
      "cell_type": "code",
      "metadata": {
        "id": "CDDRCfGy5feS",
        "colab_type": "code",
        "outputId": "36fc6db5-2b57-4f08-d02b-2db60ae3c76e",
        "colab": {
          "base_uri": "https://localhost:8080/",
          "height": 293
        }
      },
      "source": [
        "fig,ax = plt.subplots(1,3,figsize=(6,2),dpi=150)\n",
        "\n",
        "for i in range(3):\n",
        "    ax[i].imshow(x[i])"
      ],
      "execution_count": 9,
      "outputs": [
        {
          "output_type": "display_data",
          "data": {
            "image/png": "[encoded data removed]",
            "text/plain": [
              "<Figure size 900x300 with 3 Axes>"
            ]
          },
          "metadata": {
            "tags": [],
            "needs_background": "light"
          }
        }
      ]
    },
    {
      "cell_type": "code",
      "metadata": {
        "id": "LJdotoAC5fea",
        "colab_type": "code",
        "colab": {}
      },
      "source": [
        "class ImageClassifier(nn.Module):\n",
        "\n",
        "    def __init__(self, model):\n",
        "        super(ImageClassifier, self).__init__()\n",
        "        \n",
        "        self.model = model\n",
        "        \n",
        "    def forward(self, x):\n",
        "        out = self.model(x)\n",
        "        \n",
        "        return out"
      ],
      "execution_count": 0,
      "outputs": []
    },
    {
      "cell_type": "code",
      "metadata": {
        "id": "zoz2PZ-B5fed",
        "colab_type": "code",
        "colab": {
          "base_uri": "https://localhost:8080/",
          "height": 84,
          "referenced_widgets": [
            "d90e1de43c2841f29b00fb4f9366e801",
            "aff61f63e905415ea5cb918d2ce62809",
            "7c87e65cf7004970b2636349d40b66c1",
            "bb4b8641d2804ac3bd548a4316509c07",
            "fe1e2d6fc342475faa2db99f53bcee1a",
            "552b2c62ab2b499f9c9af0ef73309012",
            "6700a772cb5843669a137de3dcf2add6",
            "c042af73551c464794ecf7c27ddcf0c1"
          ]
        },
        "outputId": "7a39b65e-67f5-4ed5-9164-1e92a0b9cf55"
      },
      "source": [
        "resnet18 = models.resnet18(pretrained=True)\n",
        "num_ftrs = resnet18.fc.in_features\n",
        "resnet18.fc = nn.Linear(num_ftrs, 10)\n",
        "resnet18 = resnet18.to(device)\n"
      ],
      "execution_count": 13,
      "outputs": [
        {
          "output_type": "stream",
          "text": [
            "Downloading: \"https://download.pytorch.org/models/resnet18-5c106cde.pth\" to /root/.cache/torch/checkpoints/resnet18-5c106cde.pth\n"
          ],
          "name": "stderr"
        },
        {
          "output_type": "display_data",
          "data": {
            "application/vnd.jupyter.widget-view+json": {
              "model_id": "d90e1de43c2841f29b00fb4f9366e801",
              "version_minor": 0,
              "version_major": 2
            },
            "text/plain": [
              "HBox(children=(FloatProgress(value=0.0, max=46827520.0), HTML(value='')))"
            ]
          },
          "metadata": {
            "tags": []
          }
        },
        {
          "output_type": "stream",
          "text": [
            "\n"
          ],
          "name": "stdout"
        }
      ]
    },
    {
      "cell_type": "code",
      "metadata": {
        "id": "LbmYQ-6X5fef",
        "colab_type": "code",
        "colab": {}
      },
      "source": [
        "model = ImageClassifier(resnet18)"
      ],
      "execution_count": 0,
      "outputs": []
    },
    {
      "cell_type": "code",
      "metadata": {
        "id": "0Rpu8Zho5feg",
        "colab_type": "code",
        "colab": {}
      },
      "source": [
        "import torch.optim as optim #, lr_scheduler\n",
        "\n",
        "loss_func = nn.CrossEntropyLoss()\n",
        "optimizer = optim.SGD(model.parameters(), lr=0.01, momentum=0.9) \n"
      ],
      "execution_count": 0,
      "outputs": []
    },
    {
      "cell_type": "code",
      "metadata": {
        "id": "E1SAGspTZu_r",
        "colab_type": "code",
        "colab": {}
      },
      "source": [
        "save_path = 'drive/My Drive/Colab Notebooks/HW2'"
      ],
      "execution_count": 0,
      "outputs": []
    },
    {
      "cell_type": "code",
      "metadata": {
        "id": "gFdPP3lh5fej",
        "colab_type": "code",
        "colab": {}
      },
      "source": [
        "import time\n",
        "import copy \n",
        "\n",
        "def train_model(model, criterion, optimizer, scheduler, num_epochs=25):\n",
        "    since = time.time()\n",
        "\n",
        "    best_model_wts = copy.deepcopy(model.state_dict())\n",
        "    best_acc = 0.0\n",
        "\n",
        "    for epoch in range(num_epochs):\n",
        "        print('Epoch {}/{}'.format(epoch, num_epochs - 1))\n",
        "        print('-' * 10)\n",
        "\n",
        "        # Each epoch has a training and validation phase\n",
        "        for phase in ['train', 'val']:\n",
        "            if phase == 'train':\n",
        "                model.train()  # Set model to training mode\n",
        "            else:\n",
        "                model.eval()   # Set model to evaluate mode\n",
        "\n",
        "            running_loss = 0.0\n",
        "            running_corrects = 0\n",
        "\n",
        "            # Iterate over data.\n",
        "            for inputs, labels in dataloaders[phase]:\n",
        "                inputs = inputs.to(device)\n",
        "                labels = labels.to(device)\n",
        "\n",
        "                # zero the parameter gradients\n",
        "                optimizer.zero_grad()\n",
        "\n",
        "                # forward\n",
        "                # track history if only in train\n",
        "                with torch.set_grad_enabled(phase == 'train'):\n",
        "                    outputs = model(inputs)\n",
        "                    _, preds = torch.max(outputs, 1)\n",
        "                    loss = criterion(outputs, labels)\n",
        "\n",
        "                    # backward + optimize only if in training phase\n",
        "                    if phase == 'train':\n",
        "                        loss.backward()\n",
        "                        optimizer.step()\n",
        "\n",
        "                # statistics\n",
        "                running_loss += loss.item() * inputs.size(0)\n",
        "                running_corrects += torch.sum(preds == labels.data)\n",
        "            if phase == 'train' and scheduler is not None:\n",
        "                scheduler.step()\n",
        "\n",
        "            epoch_loss = running_loss / dataset_sizes[phase]\n",
        "            epoch_acc = running_corrects.double() / dataset_sizes[phase]\n",
        "\n",
        "            print('{} Loss: {:.4f} Acc: {:.4f}'.format(\n",
        "                phase, epoch_loss, epoch_acc))\n",
        "\n",
        "            # deep copy the model\n",
        "            if phase == 'val' and epoch_acc > best_acc:\n",
        "                best_acc = epoch_acc\n",
        "                best_model_wts = copy.deepcopy(model.state_dict())\n",
        "                torch.save(model.state_dict(), os.path.join(save_path, 'transfer_best_model_resnet_yahel.pt'))\n",
        "\n",
        "        print()\n",
        "\n",
        "        time_elapsed = time.time() - since\n",
        "        print('Training complete in {:.0f}m {:.0f}s'.format(\n",
        "            time_elapsed // 60, time_elapsed % 60))\n",
        "    print('Best val Acc: {:4f}'.format(best_acc))\n",
        "\n",
        "    # load best model weights\n",
        "    model.load_state_dict(best_model_wts)\n",
        "    return model"
      ],
      "execution_count": 0,
      "outputs": []
    },
    {
      "cell_type": "code",
      "metadata": {
        "id": "kPIQjf6XSoCT",
        "colab_type": "code",
        "colab": {}
      },
      "source": [
        "image_datasets = {'train': train_ds, 'val': valid_ds}\n",
        "\n",
        "dataloaders = {x: torch.utils.data.DataLoader(image_datasets[x], batch_size=4,\n",
        "                                             shuffle=True, num_workers=4)\n",
        "              for x in ['train', 'val']}\n",
        "\n",
        "dataset_sizes = {'train': len(train_ds), 'val': len(valid_ds)}\n"
      ],
      "execution_count": 0,
      "outputs": []
    },
    {
      "cell_type": "code",
      "metadata": {
        "id": "6bozxyMMeSJU",
        "colab_type": "code",
        "colab": {
          "base_uri": "https://localhost:8080/",
          "height": 1000
        },
        "outputId": "84c949f1-5e8b-4ef7-a865-10e884dae780"
      },
      "source": [
        "model_ft = train_model(model, loss_func, optimizer, None,\n",
        "                       num_epochs=40)"
      ],
      "execution_count": 21,
      "outputs": [
        {
          "output_type": "stream",
          "text": [
            "Epoch 0/39\n",
            "----------\n",
            "train Loss: 0.4387 Acc: 0.8409\n",
            "val Loss: 0.7103 Acc: 0.7556\n",
            "\n",
            "Training complete in 0m 54s\n",
            "Epoch 1/39\n",
            "----------\n",
            "train Loss: 0.4040 Acc: 0.8584\n",
            "val Loss: 0.7442 Acc: 0.7634\n",
            "\n",
            "Training complete in 1m 47s\n",
            "Epoch 2/39\n",
            "----------\n",
            "train Loss: 0.3607 Acc: 0.8698\n",
            "val Loss: 0.7755 Acc: 0.7518\n",
            "\n",
            "Training complete in 2m 41s\n",
            "Epoch 3/39\n",
            "----------\n",
            "train Loss: 0.3255 Acc: 0.8838\n",
            "val Loss: 0.8087 Acc: 0.7458\n",
            "\n",
            "Training complete in 3m 34s\n",
            "Epoch 4/39\n",
            "----------\n",
            "train Loss: 0.3092 Acc: 0.8940\n",
            "val Loss: 0.7917 Acc: 0.7540\n",
            "\n",
            "Training complete in 4m 28s\n",
            "Epoch 5/39\n",
            "----------\n",
            "train Loss: 0.2583 Acc: 0.9090\n",
            "val Loss: 0.8727 Acc: 0.7308\n",
            "\n",
            "Training complete in 5m 21s\n",
            "Epoch 6/39\n",
            "----------\n",
            "train Loss: 0.2371 Acc: 0.9162\n",
            "val Loss: 0.8092 Acc: 0.7724\n",
            "\n",
            "Training complete in 6m 15s\n",
            "Epoch 7/39\n",
            "----------\n",
            "train Loss: 0.2013 Acc: 0.9272\n",
            "val Loss: 0.9955 Acc: 0.7138\n",
            "\n",
            "Training complete in 7m 9s\n",
            "Epoch 8/39\n",
            "----------\n",
            "train Loss: 0.1770 Acc: 0.9383\n",
            "val Loss: 0.8981 Acc: 0.7494\n",
            "\n",
            "Training complete in 8m 3s\n",
            "Epoch 9/39\n",
            "----------\n",
            "train Loss: 0.1670 Acc: 0.9432\n",
            "val Loss: 1.1203 Acc: 0.7042\n",
            "\n",
            "Training complete in 8m 57s\n",
            "Epoch 10/39\n",
            "----------\n",
            "train Loss: 0.1431 Acc: 0.9512\n",
            "val Loss: 1.1426 Acc: 0.7034\n",
            "\n",
            "Training complete in 9m 50s\n",
            "Epoch 11/39\n",
            "----------\n",
            "train Loss: 0.1318 Acc: 0.9532\n",
            "val Loss: 1.0597 Acc: 0.7412\n",
            "\n",
            "Training complete in 10m 44s\n",
            "Epoch 12/39\n",
            "----------\n",
            "train Loss: 0.1251 Acc: 0.9556\n",
            "val Loss: 1.1267 Acc: 0.7326\n",
            "\n",
            "Training complete in 11m 39s\n",
            "Epoch 13/39\n",
            "----------\n",
            "train Loss: 0.1064 Acc: 0.9625\n",
            "val Loss: 1.0738 Acc: 0.7278\n",
            "\n",
            "Training complete in 12m 32s\n",
            "Epoch 14/39\n",
            "----------\n",
            "train Loss: 0.0843 Acc: 0.9715\n",
            "val Loss: 1.1993 Acc: 0.7322\n",
            "\n",
            "Training complete in 13m 26s\n",
            "Epoch 15/39\n",
            "----------\n",
            "train Loss: 0.0898 Acc: 0.9698\n",
            "val Loss: 1.0843 Acc: 0.7476\n",
            "\n",
            "Training complete in 14m 20s\n",
            "Epoch 16/39\n",
            "----------\n",
            "train Loss: 0.0586 Acc: 0.9806\n",
            "val Loss: 1.1653 Acc: 0.7512\n",
            "\n",
            "Training complete in 15m 14s\n",
            "Epoch 17/39\n",
            "----------\n",
            "train Loss: 0.0731 Acc: 0.9757\n",
            "val Loss: 1.1207 Acc: 0.7512\n",
            "\n",
            "Training complete in 16m 8s\n",
            "Epoch 18/39\n",
            "----------\n",
            "train Loss: 0.0656 Acc: 0.9795\n",
            "val Loss: 1.0894 Acc: 0.7622\n",
            "\n",
            "Training complete in 17m 2s\n",
            "Epoch 19/39\n",
            "----------\n",
            "train Loss: 0.0479 Acc: 0.9836\n",
            "val Loss: 1.2042 Acc: 0.7452\n",
            "\n",
            "Training complete in 17m 56s\n",
            "Epoch 20/39\n",
            "----------\n",
            "train Loss: 0.0222 Acc: 0.9934\n",
            "val Loss: 1.2535 Acc: 0.7672\n",
            "\n",
            "Training complete in 18m 49s\n",
            "Epoch 21/39\n",
            "----------\n",
            "train Loss: 0.0382 Acc: 0.9867\n",
            "val Loss: 1.3262 Acc: 0.7530\n",
            "\n",
            "Training complete in 19m 43s\n",
            "Epoch 22/39\n",
            "----------\n",
            "train Loss: 0.0562 Acc: 0.9817\n",
            "val Loss: 1.1746 Acc: 0.7524\n",
            "\n",
            "Training complete in 20m 37s\n",
            "Epoch 23/39\n",
            "----------\n",
            "train Loss: 0.0346 Acc: 0.9882\n",
            "val Loss: 1.3465 Acc: 0.7550\n",
            "\n",
            "Training complete in 21m 31s\n",
            "Epoch 24/39\n",
            "----------\n",
            "train Loss: 0.0362 Acc: 0.9869\n",
            "val Loss: 1.3345 Acc: 0.7534\n",
            "\n",
            "Training complete in 22m 25s\n",
            "Epoch 25/39\n",
            "----------\n",
            "train Loss: 0.0469 Acc: 0.9840\n",
            "val Loss: 1.1957 Acc: 0.7608\n",
            "\n",
            "Training complete in 23m 19s\n",
            "Epoch 26/39\n",
            "----------\n",
            "train Loss: 0.0181 Acc: 0.9940\n",
            "val Loss: 1.3932 Acc: 0.7320\n",
            "\n",
            "Training complete in 24m 12s\n",
            "Epoch 27/39\n",
            "----------\n",
            "train Loss: 0.0140 Acc: 0.9957\n",
            "val Loss: 1.2987 Acc: 0.7614\n",
            "\n",
            "Training complete in 25m 6s\n",
            "Epoch 28/39\n",
            "----------\n",
            "train Loss: 0.0203 Acc: 0.9935\n",
            "val Loss: 1.3812 Acc: 0.7582\n",
            "\n",
            "Training complete in 25m 60s\n",
            "Epoch 29/39\n",
            "----------\n",
            "train Loss: 0.0261 Acc: 0.9918\n",
            "val Loss: 1.3177 Acc: 0.7594\n",
            "\n",
            "Training complete in 26m 53s\n",
            "Epoch 30/39\n",
            "----------\n",
            "train Loss: 0.0065 Acc: 0.9983\n",
            "val Loss: 1.3840 Acc: 0.7598\n",
            "\n",
            "Training complete in 27m 47s\n",
            "Epoch 31/39\n",
            "----------\n",
            "train Loss: 0.0096 Acc: 0.9966\n",
            "val Loss: 1.3909 Acc: 0.7698\n",
            "\n",
            "Training complete in 28m 41s\n",
            "Epoch 32/39\n",
            "----------\n",
            "train Loss: 0.0312 Acc: 0.9893\n",
            "val Loss: 1.4609 Acc: 0.7410\n",
            "\n",
            "Training complete in 29m 35s\n",
            "Epoch 33/39\n",
            "----------\n",
            "train Loss: 0.0355 Acc: 0.9882\n",
            "val Loss: 1.3732 Acc: 0.7576\n",
            "\n",
            "Training complete in 30m 28s\n",
            "Epoch 34/39\n",
            "----------\n",
            "train Loss: 0.0224 Acc: 0.9921\n",
            "val Loss: 1.4477 Acc: 0.7394\n",
            "\n",
            "Training complete in 31m 22s\n",
            "Epoch 35/39\n",
            "----------\n",
            "train Loss: 0.0128 Acc: 0.9954\n",
            "val Loss: 1.4926 Acc: 0.7594\n",
            "\n",
            "Training complete in 32m 16s\n",
            "Epoch 36/39\n",
            "----------\n",
            "train Loss: 0.0317 Acc: 0.9895\n",
            "val Loss: 1.3916 Acc: 0.7416\n",
            "\n",
            "Training complete in 33m 10s\n",
            "Epoch 37/39\n",
            "----------\n",
            "train Loss: 0.0184 Acc: 0.9943\n",
            "val Loss: 1.3978 Acc: 0.7452\n",
            "\n",
            "Training complete in 34m 4s\n",
            "Epoch 38/39\n",
            "----------\n",
            "train Loss: 0.0198 Acc: 0.9943\n",
            "val Loss: 1.4152 Acc: 0.7640\n",
            "\n",
            "Training complete in 34m 58s\n",
            "Epoch 39/39\n",
            "----------\n",
            "train Loss: 0.0150 Acc: 0.9950\n",
            "val Loss: 1.3646 Acc: 0.7666\n",
            "\n",
            "Training complete in 35m 52s\n",
            "Best val Acc: 0.772400\n"
          ],
          "name": "stdout"
        }
      ]
    },
    {
      "cell_type": "code",
      "metadata": {
        "id": "r-svrdRo-wxM",
        "colab_type": "code",
        "colab": {}
      },
      "source": [
        "model = ImageClassifier(resnet18)\n",
        "\n",
        "loaded_state_dict = torch.load(os.path.join(save_path, 'transfer_best_model_resnet_yahel.pt'))\n",
        "# loaded_state_dict\n",
        "model.load_state_dict(loaded_state_dict)\n",
        "loaded_model = model"
      ],
      "execution_count": 0,
      "outputs": []
    },
    {
      "cell_type": "code",
      "metadata": {
        "id": "THXyPmEzegvc",
        "colab_type": "code",
        "colab": {
          "base_uri": "https://localhost:8080/",
          "height": 35
        },
        "outputId": "996b8599-01b9-41d9-dab1-c77450c5e07a"
      },
      "source": [
        "running_loss, running_corrects = 0, 0\n",
        "phase = 'val'\n",
        "\n",
        "for inputs, labels in dataloaders['val']:\n",
        "    inputs = inputs.to(device)\n",
        "    labels = labels.to(device)\n",
        "\n",
        "    # zero the parameter gradients\n",
        "    loaded_model.eval()\n",
        "\n",
        "    outputs = loaded_model(inputs)\n",
        "    _, preds = torch.max(outputs, 1)\n",
        "    loss = loss_func(outputs, labels)\n",
        "\n",
        "                # statistics\n",
        "    running_loss += loss.item() * inputs.size(0)\n",
        "    running_corrects += torch.sum(preds == labels.data)\n",
        "\n",
        "valid_loss = running_loss / dataset_sizes[phase]\n",
        "valid_acc = running_corrects.double() / dataset_sizes[phase]\n",
        "\n",
        "print(valid_acc)"
      ],
      "execution_count": 20,
      "outputs": [
        {
          "output_type": "stream",
          "text": [
            "tensor(0.7724, device='cuda:0', dtype=torch.float64)\n"
          ],
          "name": "stdout"
        }
      ]
    },
    {
      "cell_type": "code",
      "metadata": {
        "id": "QXJsJAEAd6E8",
        "colab_type": "code",
        "colab": {}
      },
      "source": [
        ""
      ],
      "execution_count": 0,
      "outputs": []
    }
  ]
}