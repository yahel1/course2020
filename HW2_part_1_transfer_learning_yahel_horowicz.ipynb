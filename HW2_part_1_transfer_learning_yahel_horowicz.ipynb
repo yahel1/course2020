{
  "nbformat": 4,
  "nbformat_minor": 0,
  "metadata": {
    "kernelspec": {
      "display_name": "Python 3",
      "language": "python",
      "name": "python3"
    },
    "language_info": {
      "codemirror_mode": {
        "name": "ipython",
        "version": 3
      },
      "file_extension": ".py",
      "mimetype": "text/x-python",
      "name": "python",
      "nbconvert_exporter": "python",
      "pygments_lexer": "ipython3",
      "version": "3.7.6"
    },
    "colab": {
      "name": "HW2_part_1_transfer_learning.ipynb",
      "provenance": []
    }
  },
  "cells": [
    {
      "cell_type": "code",
      "metadata": {
        "id": "8oq4nfPX5feB",
        "colab_type": "code",
        "colab": {}
      },
      "source": [
        "import glob\n",
        "from PIL import Image\n",
        "from torchvision import datasets, transforms\n",
        "import numpy as np\n",
        "import torch\n",
        "from torch.utils.data import Dataset, DataLoader\n",
        "import matplotlib.pyplot as plt\n",
        "import torch.nn as nn\n",
        "import torch.nn.functional as F\n",
        "import torchvision.models as models"
      ],
      "execution_count": 0,
      "outputs": []
    },
    {
      "cell_type": "markdown",
      "metadata": {
        "id": "RAJL93fH5feE",
        "colab_type": "text"
      },
      "source": [
        "# Homework 2, part 1\n",
        "\n",
        "## transfer learning\n",
        "1. below you will find the dataset object for the galaxy dataset from homework 1, except that now it outputs a 69x69 image (no flattening), and the single grayscale channel is repeated 3 times to give a 3x69x69 image\n",
        "\n",
        "2. load a pre-trained network from pytorchs selection https://pytorch.org/docs/stable/torchvision/models.html\n",
        "\n",
        "3. create a network to classify the galaxy image dataset with some parts from the pretrained network\n",
        "\n",
        "4. train the new network\n",
        "\n",
        "5. when you reach over 75% accuracy on the validation dataset, submit your trained model (state_dict and source code)\n",
        "\n",
        "6. double check that if you train the same model without the pre-trained weights, it will perform worse (no need to submit this model) "
      ]
    },
    {
      "cell_type": "code",
      "metadata": {
        "id": "yFb46T3S5feE",
        "colab_type": "code",
        "colab": {}
      },
      "source": [
        "path_to_training_data = '../Dataset/train/'\n",
        "path_to_validation_data = '../Dataset/validation/'"
      ],
      "execution_count": 0,
      "outputs": []
    },
    {
      "cell_type": "code",
      "metadata": {
        "id": "7ImvWGKs5feG",
        "colab_type": "code",
        "colab": {}
      },
      "source": [
        ""
      ],
      "execution_count": 0,
      "outputs": []
    },
    {
      "cell_type": "code",
      "metadata": {
        "id": "hslNqV1m5feI",
        "colab_type": "code",
        "colab": {}
      },
      "source": [
        "import glob\n",
        "from PIL import Image\n",
        "from PIL import ImageFilter\n",
        "from torchvision import datasets, transforms\n",
        "import numpy as np\n",
        "import torch\n",
        "from torch.utils.data import Dataset, DataLoader\n",
        "import torch.nn as nn\n",
        "\n",
        "\n",
        "class CustomDataset(Dataset):\n",
        "    def __init__(self, path,mean=0.092,std=0.127,n_classes=10,transform=False):\n",
        "        \n",
        "        self.mean = mean\n",
        "        self.std = std\n",
        "        \n",
        "        self.do_transform = transform\n",
        "        self.transform = transforms.RandomRotation(180)\n",
        "        \n",
        "        self.filelist = glob.glob(path+'/*.png')\n",
        "        \n",
        "        self.labels = np.zeros(len(self.filelist))\n",
        "        \n",
        "        for class_i in range(n_classes):\n",
        "            self.labels[ np.array(['class'+str(class_i) in x for x in self.filelist]) ] = class_i\n",
        "        self.labels = torch.LongTensor(self.labels)\n",
        "        \n",
        "        \n",
        "    def __len__(self):\n",
        "       \n",
        "        return len(self.filelist)\n",
        "\n",
        "    def __getitem__(self, idx):\n",
        "        \n",
        "        img = Image.open(self.filelist[idx])\n",
        "    \n",
        "        if self.do_transform:\n",
        "            \n",
        "            img = self.transform(img)\n",
        "        \n",
        "        \n",
        "        x = transforms.ToTensor()(img)\n",
        "        \n",
        "        x = (x-self.mean)/self.std\n",
        "        \n",
        "        x = x.repeat(3,1,1)\n",
        "        \n",
        "        \n",
        "        class_label = self.labels[idx]\n",
        "        \n",
        "        return x, class_label"
      ],
      "execution_count": 0,
      "outputs": []
    },
    {
      "cell_type": "code",
      "metadata": {
        "id": "xEZtl-4c5feK",
        "colab_type": "code",
        "colab": {}
      },
      "source": [
        "train_ds = CustomDataset(path_to_training_data,transform=False)\n",
        "valid_ds = CustomDataset(path_to_validation_data,transform=False)"
      ],
      "execution_count": 0,
      "outputs": []
    },
    {
      "cell_type": "code",
      "metadata": {
        "id": "MVGNQlmj5feM",
        "colab_type": "code",
        "colab": {}
      },
      "source": [
        "x,y = train_ds[553]"
      ],
      "execution_count": 0,
      "outputs": []
    },
    {
      "cell_type": "code",
      "metadata": {
        "id": "qckJRhOE5feP",
        "colab_type": "code",
        "colab": {},
        "outputId": "f48e5401-0ab0-4a69-9889-aabcbc2df1bd"
      },
      "source": [
        "x.shape"
      ],
      "execution_count": 0,
      "outputs": [
        {
          "output_type": "execute_result",
          "data": {
            "text/plain": [
              "torch.Size([3, 69, 69])"
            ]
          },
          "metadata": {
            "tags": []
          },
          "execution_count": 5
        }
      ]
    },
    {
      "cell_type": "code",
      "metadata": {
        "id": "CDDRCfGy5feS",
        "colab_type": "code",
        "colab": {},
        "outputId": "c063c98c-e478-4315-bfcd-d479f7ffad4f"
      },
      "source": [
        "fig,ax = plt.subplots(1,3,figsize=(6,2),dpi=150)\n",
        "\n",
        "for i in range(3):\n",
        "    ax[i].imshow(x[i])"
      ],
      "execution_count": 0,
      "outputs": [
        {
          "output_type": "display_data",
          "data": {
            "image/png": "[encoded data removed]",
            "text/plain": [
              "<Figure size 900x300 with 3 Axes>"
            ]
          },
          "metadata": {
            "tags": [],
            "needs_background": "light"
          }
        }
      ]
    },
    {
      "cell_type": "code",
      "metadata": {
        "id": "ocqrqW_b5feV",
        "colab_type": "code",
        "colab": {}
      },
      "source": [
        "import torchvision.models as models\n",
        "\n",
        "\n",
        "vgg11 = models.vgg16(pretrained=True)\n",
        "#vgg11 = models.vgg11(pretrained=False)"
      ],
      "execution_count": 0,
      "outputs": []
    },
    {
      "cell_type": "code",
      "metadata": {
        "id": "pqwCU_7j5feX",
        "colab_type": "code",
        "colab": {},
        "outputId": "f7a9de65-3dee-4d14-d4b6-3340a17941d9"
      },
      "source": [
        "vgg11"
      ],
      "execution_count": 0,
      "outputs": [
        {
          "output_type": "execute_result",
          "data": {
            "text/plain": [
              "VGG(\n",
              "  (features): Sequential(\n",
              "    (0): Conv2d(3, 64, kernel_size=(3, 3), stride=(1, 1), padding=(1, 1))\n",
              "    (1): ReLU(inplace=True)\n",
              "    (2): Conv2d(64, 64, kernel_size=(3, 3), stride=(1, 1), padding=(1, 1))\n",
              "    (3): ReLU(inplace=True)\n",
              "    (4): MaxPool2d(kernel_size=2, stride=2, padding=0, dilation=1, ceil_mode=False)\n",
              "    (5): Conv2d(64, 128, kernel_size=(3, 3), stride=(1, 1), padding=(1, 1))\n",
              "    (6): ReLU(inplace=True)\n",
              "    (7): Conv2d(128, 128, kernel_size=(3, 3), stride=(1, 1), padding=(1, 1))\n",
              "    (8): ReLU(inplace=True)\n",
              "    (9): MaxPool2d(kernel_size=2, stride=2, padding=0, dilation=1, ceil_mode=False)\n",
              "    (10): Conv2d(128, 256, kernel_size=(3, 3), stride=(1, 1), padding=(1, 1))\n",
              "    (11): ReLU(inplace=True)\n",
              "    (12): Conv2d(256, 256, kernel_size=(3, 3), stride=(1, 1), padding=(1, 1))\n",
              "    (13): ReLU(inplace=True)\n",
              "    (14): Conv2d(256, 256, kernel_size=(3, 3), stride=(1, 1), padding=(1, 1))\n",
              "    (15): ReLU(inplace=True)\n",
              "    (16): MaxPool2d(kernel_size=2, stride=2, padding=0, dilation=1, ceil_mode=False)\n",
              "    (17): Conv2d(256, 512, kernel_size=(3, 3), stride=(1, 1), padding=(1, 1))\n",
              "    (18): ReLU(inplace=True)\n",
              "    (19): Conv2d(512, 512, kernel_size=(3, 3), stride=(1, 1), padding=(1, 1))\n",
              "    (20): ReLU(inplace=True)\n",
              "    (21): Conv2d(512, 512, kernel_size=(3, 3), stride=(1, 1), padding=(1, 1))\n",
              "    (22): ReLU(inplace=True)\n",
              "    (23): MaxPool2d(kernel_size=2, stride=2, padding=0, dilation=1, ceil_mode=False)\n",
              "    (24): Conv2d(512, 512, kernel_size=(3, 3), stride=(1, 1), padding=(1, 1))\n",
              "    (25): ReLU(inplace=True)\n",
              "    (26): Conv2d(512, 512, kernel_size=(3, 3), stride=(1, 1), padding=(1, 1))\n",
              "    (27): ReLU(inplace=True)\n",
              "    (28): Conv2d(512, 512, kernel_size=(3, 3), stride=(1, 1), padding=(1, 1))\n",
              "    (29): ReLU(inplace=True)\n",
              "    (30): MaxPool2d(kernel_size=2, stride=2, padding=0, dilation=1, ceil_mode=False)\n",
              "  )\n",
              "  (avgpool): AdaptiveAvgPool2d(output_size=(7, 7))\n",
              "  (classifier): Sequential(\n",
              "    (0): Linear(in_features=25088, out_features=4096, bias=True)\n",
              "    (1): ReLU(inplace=True)\n",
              "    (2): Dropout(p=0.5, inplace=False)\n",
              "    (3): Linear(in_features=4096, out_features=4096, bias=True)\n",
              "    (4): ReLU(inplace=True)\n",
              "    (5): Dropout(p=0.5, inplace=False)\n",
              "    (6): Linear(in_features=4096, out_features=1000, bias=True)\n",
              "  )\n",
              ")"
            ]
          },
          "metadata": {
            "tags": []
          },
          "execution_count": 12
        }
      ]
    },
    {
      "cell_type": "code",
      "metadata": {
        "id": "JJP1LYx_5feZ",
        "colab_type": "code",
        "colab": {}
      },
      "source": [
        "??vgg11"
      ],
      "execution_count": 0,
      "outputs": []
    },
    {
      "cell_type": "code",
      "metadata": {
        "id": "LJdotoAC5fea",
        "colab_type": "code",
        "colab": {}
      },
      "source": [
        "class ImageClassifier(nn.Module):\n",
        "\n",
        "    def __init__(self):\n",
        "        super(ImageClassifier, self).__init__()\n",
        "        \n",
        "        #you can take all of the conv layers before the max pooling,\n",
        "        self.features = vgg11.features\n",
        "        \n",
        "        #or you can take a subset of them\n",
        "        self.conv1 = vgg11.features[0]\n",
        "        self.conv2 = vgg11.features[3]\n",
        "        self.conv3 = vgg11.features[6]\n",
        "        \n",
        "        #if you want to use subsets of a sequential model:\n",
        "        self.part1 = nn.Sequential(*[vgg11.features[i] for i in range(16)])\n",
        "        \n",
        "        self.classifier = #...\n",
        "        \n",
        "    def forward(self, x):\n",
        "        out = self.features(x)\n",
        "        \n",
        "        ##### pass through the rest of your model\n",
        "        \n",
        "        return out"
      ],
      "execution_count": 0,
      "outputs": []
    },
    {
      "cell_type": "code",
      "metadata": {
        "id": "zoz2PZ-B5fed",
        "colab_type": "code",
        "colab": {}
      },
      "source": [
        ""
      ],
      "execution_count": 0,
      "outputs": []
    },
    {
      "cell_type": "code",
      "metadata": {
        "id": "LbmYQ-6X5fef",
        "colab_type": "code",
        "colab": {}
      },
      "source": [
        "img_class = ImageClassifier()"
      ],
      "execution_count": 0,
      "outputs": []
    },
    {
      "cell_type": "code",
      "metadata": {
        "id": "0Rpu8Zho5feg",
        "colab_type": "code",
        "colab": {}
      },
      "source": [
        ""
      ],
      "execution_count": 0,
      "outputs": []
    },
    {
      "cell_type": "code",
      "metadata": {
        "id": "gFdPP3lh5fej",
        "colab_type": "code",
        "colab": {}
      },
      "source": [
        ""
      ],
      "execution_count": 0,
      "outputs": []
    },
    {
      "cell_type": "code",
      "metadata": {
        "id": "lmWHJ_4x5fek",
        "colab_type": "code",
        "colab": {}
      },
      "source": [
        "training_ds = CustomDataset(path_to_training_data,transform=False)\n",
        "validation_ds = CustomDataset(path_to_validation_data)\n",
        "\n",
        "tranining_tensor = torch.stack([training_ds[i][0] for i in range(len(training_ds)) ])\n",
        "training_labels = training_ds.labels.data.numpy()\n",
        "\n",
        "validation_tensor = torch.stack([validation_ds[i][0] for i in range(len(validation_ds)) ])\n",
        "validation_labels = validation_ds.labels.data.numpy()"
      ],
      "execution_count": 0,
      "outputs": []
    },
    {
      "cell_type": "code",
      "metadata": {
        "id": "Rt8eDbVm5fen",
        "colab_type": "code",
        "colab": {}
      },
      "source": [
        "def dataset_accuracy(tensor_dataset,targets,net):\n",
        "    \n",
        "    net.eval()\n",
        "    \n",
        "    net.cpu()\n",
        "    \n",
        "    output = net(tensor_dataset)\n",
        "    \n",
        "    loss = nn.CrossEntropyLoss()(output,torch.LongTensor(targets)) \n",
        "\n",
        "    output = output.data.numpy()\n",
        "    prediction = np.argmax(output,axis=1)\n",
        "\n",
        "    n_correct = len(np.where(targets==prediction)[0])\n",
        "    n_total = len(targets)\n",
        "    \n",
        "    if torch.cuda.is_available():\n",
        "        net.cuda()\n",
        "    return n_correct/n_total, loss.item()"
      ],
      "execution_count": 0,
      "outputs": []
    },
    {
      "cell_type": "code",
      "metadata": {
        "id": "73DF28it5fep",
        "colab_type": "code",
        "colab": {}
      },
      "source": [
        "dataset_accuracy(validation_tensor,validation_labels, img_class, nn.CrossEntropyLoss())"
      ],
      "execution_count": 0,
      "outputs": []
    }
  ]
}