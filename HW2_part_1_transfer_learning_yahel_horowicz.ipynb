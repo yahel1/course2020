{
  "nbformat": 4,
  "nbformat_minor": 0,
  "metadata": {
    "kernelspec": {
      "display_name": "Python 3",
      "language": "python",
      "name": "python3"
    },
    "language_info": {
      "codemirror_mode": {
        "name": "ipython",
        "version": 3
      },
      "file_extension": ".py",
      "mimetype": "text/x-python",
      "name": "python",
      "nbconvert_exporter": "python",
      "pygments_lexer": "ipython3",
      "version": "3.7.6"
    },
    "colab": {
      "name": "HW2_part_1_transfer_learning.ipynb",
      "provenance": []
    },
    "accelerator": "GPU"
  },
  "cells": [
    {
      "cell_type": "code",
      "metadata": {
        "id": "8oq4nfPX5feB",
        "colab_type": "code",
        "colab": {}
      },
      "source": [
        "import glob\n",
        "import os\n",
        "from PIL import Image\n",
        "from torchvision import datasets, transforms\n",
        "import numpy as np\n",
        "import torch\n",
        "from torch.utils.data import Dataset, DataLoader\n",
        "import matplotlib.pyplot as plt\n",
        "import torch.nn as nn\n",
        "import torch.nn.functional as F\n",
        "import torchvision.models as models"
      ],
      "execution_count": 0,
      "outputs": []
    },
    {
      "cell_type": "code",
      "metadata": {
        "id": "fw5s1MbBfYQ9",
        "colab_type": "code",
        "colab": {
          "base_uri": "https://localhost:8080/",
          "height": 54
        },
        "outputId": "df0ba1d8-8fe4-4b95-8239-c96fa3f62bfc"
      },
      "source": [
        "from google.colab import drive\n",
        "drive.mount('/content/drive')"
      ],
      "execution_count": 2,
      "outputs": [
        {
          "output_type": "stream",
          "text": [
            "Drive already mounted at /content/drive; to attempt to forcibly remount, call drive.mount(\"/content/drive\", force_remount=True).\n"
          ],
          "name": "stdout"
        }
      ]
    },
    {
      "cell_type": "markdown",
      "metadata": {
        "id": "RAJL93fH5feE",
        "colab_type": "text"
      },
      "source": [
        "# Homework 2, part 1\n",
        "\n",
        "## transfer learning\n",
        "1. below you will find the dataset object for the galaxy dataset from homework 1, except that now it outputs a 69x69 image (no flattening), and the single grayscale channel is repeated 3 times to give a 3x69x69 image\n",
        "\n",
        "2. load a pre-trained network from pytorchs selection https://pytorch.org/docs/stable/torchvision/models.html\n",
        "\n",
        "3. create a network to classify the galaxy image dataset with some parts from the pretrained network\n",
        "\n",
        "4. train the new network\n",
        "\n",
        "5. when you reach over 75% accuracy on the validation dataset, submit your trained model (state_dict and source code)\n",
        "\n",
        "6. double check that if you train the same model without the pre-trained weights, it will perform worse (no need to submit this model) "
      ]
    },
    {
      "cell_type": "code",
      "metadata": {
        "id": "yFb46T3S5feE",
        "colab_type": "code",
        "colab": {}
      },
      "source": [
        "os.environ[\"CUDA_VISIBLE_DEVICES\"]=\"0\"\n",
        "\n",
        "device = torch.device('cuda:0' if torch.cuda.is_available() else 'cpu' )"
      ],
      "execution_count": 0,
      "outputs": []
    },
    {
      "cell_type": "code",
      "metadata": {
        "id": "I4d3FyPTGM9t",
        "colab_type": "code",
        "colab": {}
      },
      "source": [
        "import zipfile\n",
        "import io\n",
        "dir_path = 'drive/My Drive/Colab Notebooks/HW2'\n",
        "data = zipfile.ZipFile(io.BytesIO(os.path.join(dir_path, 'Dataset.zip')), 'r')\n",
        "data.extractall()\n",
        "\n",
        "path_to_training_data = 'Dataset/train/'\n",
        "path_to_validation_data = 'Dataset/validation/'"
      ],
      "execution_count": 0,
      "outputs": []
    },
    {
      "cell_type": "code",
      "metadata": {
        "id": "hslNqV1m5feI",
        "colab_type": "code",
        "colab": {}
      },
      "source": [
        "import glob\n",
        "from PIL import Image\n",
        "from PIL import ImageFilter\n",
        "from torchvision import datasets, transforms\n",
        "import numpy as np\n",
        "import torch\n",
        "from torch.utils.data import Dataset, DataLoader\n",
        "import torch.nn as nn\n",
        "\n",
        "\n",
        "class CustomDataset(Dataset):\n",
        "    def __init__(self, path,mean=0.092,std=0.127,n_classes=10,transform=False):\n",
        "        \n",
        "        self.mean = mean\n",
        "        self.std = std\n",
        "        \n",
        "        self.do_transform = transform\n",
        "        self.transform = transforms.RandomRotation(180)\n",
        "        \n",
        "        self.filelist = glob.glob(path+'/*.png')\n",
        "        \n",
        "        self.labels = np.zeros(len(self.filelist))\n",
        "        \n",
        "        for class_i in range(n_classes):\n",
        "            self.labels[ np.array(['class'+str(class_i) in x for x in self.filelist]) ] = class_i\n",
        "        self.labels = torch.LongTensor(self.labels)\n",
        "      \n",
        "        self.imgs = []\n",
        "        for fname in self.filelist:\n",
        "            img = Image.open(fname)\n",
        "            self.imgs.append(img)\n",
        "  \n",
        "    def __len__(self):\n",
        "       \n",
        "        return len(self.filelist)\n",
        "\n",
        "    def __getitem__(self, idx):\n",
        "        \n",
        "        img = self.imgs[idx]\n",
        "    \n",
        "        if self.do_transform:\n",
        "            \n",
        "            img = self.transform(img)\n",
        "        \n",
        "        \n",
        "        x = transforms.ToTensor()(img)\n",
        "        \n",
        "        x = (x-self.mean)/self.std\n",
        "        \n",
        "        x = x.repeat(3,1,1)\n",
        "        \n",
        "        \n",
        "        class_label = self.labels[idx]\n",
        "        \n",
        "        return x, class_label"
      ],
      "execution_count": 0,
      "outputs": []
    },
    {
      "cell_type": "code",
      "metadata": {
        "id": "xEZtl-4c5feK",
        "colab_type": "code",
        "colab": {}
      },
      "source": [
        "train_ds = CustomDataset(path_to_training_data,transform=False)\n",
        "valid_ds = CustomDataset(path_to_validation_data,transform=False)"
      ],
      "execution_count": 0,
      "outputs": []
    },
    {
      "cell_type": "code",
      "metadata": {
        "id": "MVGNQlmj5feM",
        "colab_type": "code",
        "colab": {}
      },
      "source": [
        "x,y = train_ds[553]"
      ],
      "execution_count": 0,
      "outputs": []
    },
    {
      "cell_type": "code",
      "metadata": {
        "id": "qckJRhOE5feP",
        "colab_type": "code",
        "outputId": "e19a9106-75cd-47d5-ae28-6302d08fb238",
        "colab": {
          "base_uri": "https://localhost:8080/",
          "height": 34
        }
      },
      "source": [
        "x.shape"
      ],
      "execution_count": 9,
      "outputs": [
        {
          "output_type": "execute_result",
          "data": {
            "text/plain": [
              "torch.Size([3, 69, 69])"
            ]
          },
          "metadata": {
            "tags": []
          },
          "execution_count": 9
        }
      ]
    },
    {
      "cell_type": "code",
      "metadata": {
        "id": "CDDRCfGy5feS",
        "colab_type": "code",
        "outputId": "91b40e96-ffb3-47bd-8c71-ecc0e1fd0f05",
        "colab": {
          "base_uri": "https://localhost:8080/",
          "height": 293
        }
      },
      "source": [
        "fig,ax = plt.subplots(1,3,figsize=(6,2),dpi=150)\n",
        "\n",
        "for i in range(3):\n",
        "    ax[i].imshow(x[i])"
      ],
      "execution_count": 10,
      "outputs": [
        {
          "output_type": "display_data",
          "data": {
            "image/png": "[encoded data removed]",
            "text/plain": [
              "<Figure size 900x300 with 3 Axes>"
            ]
          },
          "metadata": {
            "tags": [],
            "needs_background": "light"
          }
        }
      ]
    },
    {
      "cell_type": "code",
      "metadata": {
        "id": "ocqrqW_b5feV",
        "colab_type": "code",
        "colab": {}
      },
      "source": [
        "import torchvision.models as models\n",
        "\n",
        "vgg16 = models.vgg16(pretrained=True)\n",
        "#vgg11 = models.vgg11(pretrained=False)"
      ],
      "execution_count": 0,
      "outputs": []
    },
    {
      "cell_type": "code",
      "metadata": {
        "id": "pqwCU_7j5feX",
        "colab_type": "code",
        "outputId": "a0a02f65-bdce-436c-8e1f-c0eee9804a2b",
        "colab": {
          "base_uri": "https://localhost:8080/",
          "height": 809
        }
      },
      "source": [
        "vgg16"
      ],
      "execution_count": 12,
      "outputs": [
        {
          "output_type": "execute_result",
          "data": {
            "text/plain": [
              "VGG(\n",
              "  (features): Sequential(\n",
              "    (0): Conv2d(3, 64, kernel_size=(3, 3), stride=(1, 1), padding=(1, 1))\n",
              "    (1): ReLU(inplace=True)\n",
              "    (2): Conv2d(64, 64, kernel_size=(3, 3), stride=(1, 1), padding=(1, 1))\n",
              "    (3): ReLU(inplace=True)\n",
              "    (4): MaxPool2d(kernel_size=2, stride=2, padding=0, dilation=1, ceil_mode=False)\n",
              "    (5): Conv2d(64, 128, kernel_size=(3, 3), stride=(1, 1), padding=(1, 1))\n",
              "    (6): ReLU(inplace=True)\n",
              "    (7): Conv2d(128, 128, kernel_size=(3, 3), stride=(1, 1), padding=(1, 1))\n",
              "    (8): ReLU(inplace=True)\n",
              "    (9): MaxPool2d(kernel_size=2, stride=2, padding=0, dilation=1, ceil_mode=False)\n",
              "    (10): Conv2d(128, 256, kernel_size=(3, 3), stride=(1, 1), padding=(1, 1))\n",
              "    (11): ReLU(inplace=True)\n",
              "    (12): Conv2d(256, 256, kernel_size=(3, 3), stride=(1, 1), padding=(1, 1))\n",
              "    (13): ReLU(inplace=True)\n",
              "    (14): Conv2d(256, 256, kernel_size=(3, 3), stride=(1, 1), padding=(1, 1))\n",
              "    (15): ReLU(inplace=True)\n",
              "    (16): MaxPool2d(kernel_size=2, stride=2, padding=0, dilation=1, ceil_mode=False)\n",
              "    (17): Conv2d(256, 512, kernel_size=(3, 3), stride=(1, 1), padding=(1, 1))\n",
              "    (18): ReLU(inplace=True)\n",
              "    (19): Conv2d(512, 512, kernel_size=(3, 3), stride=(1, 1), padding=(1, 1))\n",
              "    (20): ReLU(inplace=True)\n",
              "    (21): Conv2d(512, 512, kernel_size=(3, 3), stride=(1, 1), padding=(1, 1))\n",
              "    (22): ReLU(inplace=True)\n",
              "    (23): MaxPool2d(kernel_size=2, stride=2, padding=0, dilation=1, ceil_mode=False)\n",
              "    (24): Conv2d(512, 512, kernel_size=(3, 3), stride=(1, 1), padding=(1, 1))\n",
              "    (25): ReLU(inplace=True)\n",
              "    (26): Conv2d(512, 512, kernel_size=(3, 3), stride=(1, 1), padding=(1, 1))\n",
              "    (27): ReLU(inplace=True)\n",
              "    (28): Conv2d(512, 512, kernel_size=(3, 3), stride=(1, 1), padding=(1, 1))\n",
              "    (29): ReLU(inplace=True)\n",
              "    (30): MaxPool2d(kernel_size=2, stride=2, padding=0, dilation=1, ceil_mode=False)\n",
              "  )\n",
              "  (avgpool): AdaptiveAvgPool2d(output_size=(7, 7))\n",
              "  (classifier): Sequential(\n",
              "    (0): Linear(in_features=25088, out_features=4096, bias=True)\n",
              "    (1): ReLU(inplace=True)\n",
              "    (2): Dropout(p=0.5, inplace=False)\n",
              "    (3): Linear(in_features=4096, out_features=4096, bias=True)\n",
              "    (4): ReLU(inplace=True)\n",
              "    (5): Dropout(p=0.5, inplace=False)\n",
              "    (6): Linear(in_features=4096, out_features=1000, bias=True)\n",
              "  )\n",
              ")"
            ]
          },
          "metadata": {
            "tags": []
          },
          "execution_count": 12
        }
      ]
    },
    {
      "cell_type": "code",
      "metadata": {
        "id": "JJP1LYx_5feZ",
        "colab_type": "code",
        "colab": {}
      },
      "source": [
        "??vgg16"
      ],
      "execution_count": 0,
      "outputs": []
    },
    {
      "cell_type": "code",
      "metadata": {
        "id": "LJdotoAC5fea",
        "colab_type": "code",
        "colab": {}
      },
      "source": [
        "class ImageClassifier(nn.Module):\n",
        "\n",
        "    def __init__(self, model):\n",
        "        super(ImageClassifier, self).__init__()\n",
        "        \n",
        "        self.model = model\n",
        "\n",
        "        #you can take all of the conv layers before the max pooling,\n",
        "        # self.features = vgg16.features\n",
        "        \n",
        "        #or you can take a subset of them\n",
        "        # self.conv1 = vgg16.features[0]\n",
        "        # self.conv2 = vgg16.features[3]\n",
        "        # self.conv3 = vgg16.features[6]\n",
        "        \n",
        "        #if you want to use subsets of a sequential model:\n",
        "        # self.part1 = nn.Sequential(*[vgg16.features[i] for i in range(16)])\n",
        "        \n",
        "        # self.classifier = #...\n",
        "        \n",
        "    def forward(self, x):\n",
        "        # out = self.features(x)\n",
        "        out = self.model(x)\n",
        "        \n",
        "        ##### pass through the rest of your model\n",
        "        \n",
        "        return out"
      ],
      "execution_count": 0,
      "outputs": []
    },
    {
      "cell_type": "code",
      "metadata": {
        "id": "zoz2PZ-B5fed",
        "colab_type": "code",
        "colab": {}
      },
      "source": [
        "resnet18 = models.resnet18(pretrained=True)\n",
        "num_ftrs = resnet18.fc.in_features\n",
        "resnet18.fc = nn.Linear(num_ftrs, 10)\n",
        "resnet18 = resnet18.to(device)\n",
        "model = resnet18"
      ],
      "execution_count": 0,
      "outputs": []
    },
    {
      "cell_type": "code",
      "metadata": {
        "id": "LbmYQ-6X5fef",
        "colab_type": "code",
        "colab": {}
      },
      "source": [
        "img_classifier = ImageClassifier(model)"
      ],
      "execution_count": 0,
      "outputs": []
    },
    {
      "cell_type": "code",
      "metadata": {
        "id": "0Rpu8Zho5feg",
        "colab_type": "code",
        "colab": {
          "base_uri": "https://localhost:8080/",
          "height": 238
        },
        "outputId": "c35bbb2a-ee32-4ebb-b07a-7e68c2492ffc"
      },
      "source": [
        "import torch.optim as optim #, lr_scheduler\n",
        "\n",
        "loss_func = nn.CrossEntropyLoss()\n",
        "optimizer = optim.SGD(model.parameters(), lr=0.01, momentum=0.9) \n",
        "# optimizer = torch.optim.Adam(net.parameters(), lr=0.001)\n",
        "# exp_lr_scheduler = lr_scheduler.StepLR(optimizer, step_size=7, gamma=0.1)\n"
      ],
      "execution_count": 14,
      "outputs": [
        {
          "output_type": "error",
          "ename": "NameError",
          "evalue": "ignored",
          "traceback": [
            "\u001b[0;31m---------------------------------------------------------------------------\u001b[0m",
            "\u001b[0;31mNameError\u001b[0m                                 Traceback (most recent call last)",
            "\u001b[0;32m<ipython-input-14-281eb0e84a55>\u001b[0m in \u001b[0;36m<module>\u001b[0;34m()\u001b[0m\n\u001b[1;32m      2\u001b[0m \u001b[0;34m\u001b[0m\u001b[0m\n\u001b[1;32m      3\u001b[0m \u001b[0mloss_func\u001b[0m \u001b[0;34m=\u001b[0m \u001b[0mnn\u001b[0m\u001b[0;34m.\u001b[0m\u001b[0mCrossEntropyLoss\u001b[0m\u001b[0;34m(\u001b[0m\u001b[0;34m)\u001b[0m\u001b[0;34m\u001b[0m\u001b[0;34m\u001b[0m\u001b[0m\n\u001b[0;32m----> 4\u001b[0;31m \u001b[0moptimizer\u001b[0m \u001b[0;34m=\u001b[0m \u001b[0moptim\u001b[0m\u001b[0;34m.\u001b[0m\u001b[0mSGD\u001b[0m\u001b[0;34m(\u001b[0m\u001b[0mmodel\u001b[0m\u001b[0;34m.\u001b[0m\u001b[0mparameters\u001b[0m\u001b[0;34m(\u001b[0m\u001b[0;34m)\u001b[0m\u001b[0;34m,\u001b[0m \u001b[0mlr\u001b[0m\u001b[0;34m=\u001b[0m\u001b[0;36m0.01\u001b[0m\u001b[0;34m,\u001b[0m \u001b[0mmomentum\u001b[0m\u001b[0;34m=\u001b[0m\u001b[0;36m0.9\u001b[0m\u001b[0;34m)\u001b[0m\u001b[0;34m\u001b[0m\u001b[0;34m\u001b[0m\u001b[0m\n\u001b[0m\u001b[1;32m      5\u001b[0m \u001b[0;31m# optimizer = torch.optim.Adam(net.parameters(), lr=0.001)\u001b[0m\u001b[0;34m\u001b[0m\u001b[0;34m\u001b[0m\u001b[0;34m\u001b[0m\u001b[0m\n\u001b[1;32m      6\u001b[0m \u001b[0;31m# exp_lr_scheduler = lr_scheduler.StepLR(optimizer, step_size=7, gamma=0.1)\u001b[0m\u001b[0;34m\u001b[0m\u001b[0;34m\u001b[0m\u001b[0;34m\u001b[0m\u001b[0m\n",
            "\u001b[0;31mNameError\u001b[0m: name 'model' is not defined"
          ]
        }
      ]
    },
    {
      "cell_type": "code",
      "metadata": {
        "id": "E1SAGspTZu_r",
        "colab_type": "code",
        "colab": {}
      },
      "source": [
        "save_path = 'drive/My Drive/Colab Notebooks/HW2'"
      ],
      "execution_count": 0,
      "outputs": []
    },
    {
      "cell_type": "code",
      "metadata": {
        "id": "gFdPP3lh5fej",
        "colab_type": "code",
        "colab": {}
      },
      "source": [
        "import time\n",
        "import copy \n",
        "\n",
        "def train_model(model, criterion, optimizer, scheduler, num_epochs=25):\n",
        "    since = time.time()\n",
        "\n",
        "    best_model_wts = copy.deepcopy(model.state_dict())\n",
        "    best_acc = 0.0\n",
        "\n",
        "    for epoch in range(num_epochs):\n",
        "        print('Epoch {}/{}'.format(epoch, num_epochs - 1))\n",
        "        print('-' * 10)\n",
        "\n",
        "        # Each epoch has a training and validation phase\n",
        "        for phase in ['train', 'val']:\n",
        "            if phase == 'train':\n",
        "                model.train()  # Set model to training mode\n",
        "            else:\n",
        "                model.eval()   # Set model to evaluate mode\n",
        "\n",
        "            running_loss = 0.0\n",
        "            running_corrects = 0\n",
        "\n",
        "            # Iterate over data.\n",
        "            for inputs, labels in dataloaders[phase]:\n",
        "                inputs = inputs.to(device)\n",
        "                labels = labels.to(device)\n",
        "\n",
        "                # zero the parameter gradients\n",
        "                optimizer.zero_grad()\n",
        "\n",
        "                # forward\n",
        "                # track history if only in train\n",
        "                with torch.set_grad_enabled(phase == 'train'):\n",
        "                    outputs = model(inputs)\n",
        "                    _, preds = torch.max(outputs, 1)\n",
        "                    loss = criterion(outputs, labels)\n",
        "\n",
        "                    # backward + optimize only if in training phase\n",
        "                    if phase == 'train':\n",
        "                        loss.backward()\n",
        "                        optimizer.step()\n",
        "\n",
        "                # statistics\n",
        "                running_loss += loss.item() * inputs.size(0)\n",
        "                running_corrects += torch.sum(preds == labels.data)\n",
        "            if phase == 'train' and scheduler is not None:\n",
        "                scheduler.step()\n",
        "\n",
        "            epoch_loss = running_loss / dataset_sizes[phase]\n",
        "            epoch_acc = running_corrects.double() / dataset_sizes[phase]\n",
        "\n",
        "            print('{} Loss: {:.4f} Acc: {:.4f}'.format(\n",
        "                phase, epoch_loss, epoch_acc))\n",
        "\n",
        "            # deep copy the model\n",
        "            if phase == 'val' and epoch_acc > best_acc:\n",
        "                best_acc = epoch_acc\n",
        "                best_model_wts = copy.deepcopy(model.state_dict())\n",
        "                torch.save(model.state_dict(), os.path.join(save_path, 'transfer_best_model_resnet_yahel.pt'))\n",
        "\n",
        "        print()\n",
        "\n",
        "        time_elapsed = time.time() - since\n",
        "        print('Training complete in {:.0f}m {:.0f}s'.format(\n",
        "            time_elapsed // 60, time_elapsed % 60))\n",
        "    print('Best val Acc: {:4f}'.format(best_acc))\n",
        "\n",
        "    # load best model weights\n",
        "    model.load_state_dict(best_model_wts)\n",
        "    return model"
      ],
      "execution_count": 0,
      "outputs": []
    },
    {
      "cell_type": "code",
      "metadata": {
        "id": "kPIQjf6XSoCT",
        "colab_type": "code",
        "colab": {}
      },
      "source": [
        "image_datasets = {'train': train_ds, 'val': valid_ds}\n",
        "\n",
        "dataloaders = {x: torch.utils.data.DataLoader(image_datasets[x], batch_size=4,\n",
        "                                             shuffle=True, num_workers=4)\n",
        "              for x in ['train', 'val']}\n",
        "\n",
        "dataset_sizes = {'train': len(train_ds), 'val': len(valid_ds)}\n",
        "\n"
      ],
      "execution_count": 0,
      "outputs": []
    },
    {
      "cell_type": "code",
      "metadata": {
        "id": "6bozxyMMeSJU",
        "colab_type": "code",
        "colab": {}
      },
      "source": [
        "model_ft = train_model(model, loss_func, optimizer, None,\n",
        "                       num_epochs=20)"
      ],
      "execution_count": 0,
      "outputs": []
    },
    {
      "cell_type": "code",
      "metadata": {
        "id": "r-svrdRo-wxM",
        "colab_type": "code",
        "colab": {}
      },
      "source": [
        "resnet18 = models.resnet18(pretrained=False)\n",
        "num_ftrs = resnet18.fc.in_features\n",
        "resnet18.fc = nn.Linear(num_ftrs, 10)\n",
        "resnet18 = resnet18.to(device)\n",
        "\n",
        "loaded_state_dict = torch.load(os.path.join(save_path, 'transfer_best_model_resnet_yahel.pt'))\n",
        "# loaded_state_dict\n",
        "resnet18.load_state_dict(loaded_state_dict)\n",
        "loaded_model = resnet18\n",
        "loaded_model.eval()"
      ],
      "execution_count": 0,
      "outputs": []
    },
    {
      "cell_type": "code",
      "metadata": {
        "id": "THXyPmEzegvc",
        "colab_type": "code",
        "colab": {}
      },
      "source": [
        "for inputs, labels in dataloaders['val']:\n",
        "    inputs = inputs.to(device)\n",
        "    labels = labels.to(device)\n",
        "\n",
        "    # zero the parameter gradients\n",
        "    optimizer.zero_grad()\n",
        "\n",
        "    with torch.set_grad_enabled('val' == 'train'):\n",
        "        outputs = model(inputs)\n",
        "        _, preds = torch.max(outputs, 1)\n",
        "        loss = criterion(outputs, labels)\n",
        "\n",
        "                # statistics\n",
        "    running_loss += loss.item() * inputs.size(0)\n",
        "    running_corrects += torch.sum(preds == labels.data)\n",
        "\n",
        "    epoch_loss = running_loss / dataset_sizes[phase]\n",
        "    epoch_acc = running_corrects.double() / dataset_sizes[phase]"
      ],
      "execution_count": 0,
      "outputs": []
    },
    {
      "cell_type": "code",
      "metadata": {
        "id": "lmWHJ_4x5fek",
        "colab_type": "code",
        "colab": {}
      },
      "source": [
        "training_ds = CustomDataset(path_to_training_data,transform=False)\n",
        "validation_ds = CustomDataset(path_to_validation_data)\n",
        "\n",
        "tranining_tensor = torch.stack([training_ds[i][0] for i in range(len(training_ds)) ]).to(device)\n",
        "training_labels = training_ds.labels.data.numpy()\n",
        "\n",
        "validation_tensor = torch.stack([validation_ds[i][0] for i in range(len(validation_ds)) ]).to(device)\n",
        "validation_labels = validation_ds.labels.data.numpy()"
      ],
      "execution_count": 0,
      "outputs": []
    },
    {
      "cell_type": "code",
      "metadata": {
        "id": "Rt8eDbVm5fen",
        "colab_type": "code",
        "colab": {}
      },
      "source": [
        "def dataset_accuracy(tensor_dataset,targets,net):\n",
        "    \n",
        "    net.eval()\n",
        "    \n",
        "    # net.cpu()\n",
        "    \n",
        "    output = net(tensor_dataset)\n",
        "    \n",
        "    loss = nn.CrossEntropyLoss()(output,torch.LongTensor(targets)) \n",
        "\n",
        "    output = output.data.numpy()\n",
        "    prediction = np.argmax(output,axis=1)\n",
        "\n",
        "    n_correct = len(np.where(targets==prediction)[0])\n",
        "    n_total = len(targets)\n",
        "    \n",
        "    if torch.cuda.is_available():\n",
        "        net.cuda()\n",
        "    return n_correct/n_total, loss.item()"
      ],
      "execution_count": 0,
      "outputs": []
    },
    {
      "cell_type": "code",
      "metadata": {
        "id": "73DF28it5fep",
        "colab_type": "code",
        "colab": {}
      },
      "source": [
        "dataset_accuracy(validation_tensor, validation_labels, loaded_model)"
      ],
      "execution_count": 0,
      "outputs": []
    },
    {
      "cell_type": "code",
      "metadata": {
        "id": "QXJsJAEAd6E8",
        "colab_type": "code",
        "colab": {}
      },
      "source": [
        ""
      ],
      "execution_count": 0,
      "outputs": []
    }
  ]
}